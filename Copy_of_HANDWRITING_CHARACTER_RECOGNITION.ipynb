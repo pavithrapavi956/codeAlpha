{
  "metadata": {
    "kernelspec": {
      "language": "python",
      "display_name": "Python 3",
      "name": "python3"
    },
    "language_info": {
      "pygments_lexer": "ipython3",
      "nbconvert_exporter": "python",
      "version": "3.6.4",
      "file_extension": ".py",
      "codemirror_mode": {
        "name": "ipython",
        "version": 3
      },
      "name": "python",
      "mimetype": "text/x-python"
    },
    "kaggle": {
      "accelerator": "gpu",
      "dataSources": [],
      "dockerImageVersionId": 30301,
      "isInternetEnabled": false,
      "language": "python",
      "sourceType": "notebook",
      "isGpuEnabled": true
    },
    "colab": {
      "provenance": [],
      "include_colab_link": true
    }
  },
  "nbformat_minor": 0,
  "nbformat": 4,
  "cells": [
    {
      "cell_type": "markdown",
      "metadata": {
        "id": "view-in-github",
        "colab_type": "text"
      },
      "source": [
        "<a href=\"https://colab.research.google.com/github/pavithrapavi956/codeAlpha/blob/main/Copy_of_HANDWRITING_CHARACTER_RECOGNITION.ipynb\" target=\"_parent\"><img src=\"https://colab.research.google.com/assets/colab-badge.svg\" alt=\"Open In Colab\"/></a>"
      ]
    },
    {
      "cell_type": "markdown",
      "source": [
        "# **HANDWRITING CHARACTER RECOGNITION**"
      ],
      "metadata": {
        "_cell_guid": "9360ebf0-1c31-43f4-bab6-6d3755a7aaae",
        "_uuid": "6294d3e6-bbae-47b8-ad10-49f0ffeb4557",
        "papermill": {
          "duration": 0.028021,
          "end_time": "2022-10-25T15:23:36.113725",
          "exception": false,
          "start_time": "2022-10-25T15:23:36.085704",
          "status": "completed"
        },
        "tags": [],
        "id": "Quqv1G8t0cO4"
      }
    },
    {
      "cell_type": "markdown",
      "source": [
        "**Importing the Libraries**"
      ],
      "metadata": {
        "_cell_guid": "91dbb60b-905c-4c1b-a736-ffe189c9589c",
        "_uuid": "c43a35f4-01af-45c5-ab8f-031eeab78e3a",
        "papermill": {
          "duration": 0.027191,
          "end_time": "2022-10-25T15:23:36.319279",
          "exception": false,
          "start_time": "2022-10-25T15:23:36.292088",
          "status": "completed"
        },
        "tags": [],
        "id": "SJxIfLQZ0cO-"
      }
    },
    {
      "cell_type": "code",
      "source": [
        "!pip install simplejson\n",
        "!pip install unidecode\n",
        "import matplotlib.pyplot as plt\n",
        "import pandas as pd\n",
        "import numpy as np\n",
        "\n",
        "import io\n",
        "import zipfile\n",
        "from zipfile import ZipFile\n",
        "import requests\n",
        "import tensorflow as tf\n",
        "from tensorflow.python.ops.rnn_cell_impl import LSTMCell, ResidualWrapper, DropoutWrapper, MultiRNNCell\n",
        "\n",
        "from tensorflow.keras import backend as K\n",
        "from tensorflow.keras.models import Model\n",
        "from tensorflow.keras.layers import Input, Conv2D, MaxPooling2D, Reshape,\\\n",
        "                                    Bidirectional, LSTM, Dense, Lambda,\\\n",
        "                                    Activation,BatchNormalization, Dropout\n",
        "\n",
        "from tensorflow.keras.optimizers import Adam\n",
        "from imgaug import augmenters as iaa\n",
        "import os\n",
        "import cv2\n",
        "import sys\n",
        "import csv\n",
        "import math\n",
        "import unidecode\n",
        "import simplejson\n",
        "import glob\n",
        "from shutil import copyfile\n",
        "import random\n",
        "from random import sample\n",
        "import argparse\n",
        "import time\n",
        "from PIL import Image\n",
        "import re\n",
        "import tarfile\n",
        "import warnings\n",
        "\n",
        "warnings.filterwarnings('ignore')\n",
        "!pip install gdown"
      ],
      "metadata": {
        "_cell_guid": "584cbc40-0fc5-4efd-a81c-c36a4163d536",
        "_uuid": "97501b1b-0d6c-4f08-81e5-544e63e3d320",
        "jupyter": {
          "outputs_hidden": false
        },
        "papermill": {
          "duration": 33.142456,
          "end_time": "2022-10-25T15:24:09.485399",
          "exception": false,
          "start_time": "2022-10-25T15:23:36.342943",
          "status": "completed"
        },
        "tags": [],
        "execution": {
          "iopub.status.busy": "2022-10-27T14:23:12.152031Z",
          "iopub.execute_input": "2022-10-27T14:23:12.152732Z",
          "iopub.status.idle": "2022-10-27T14:23:44.756254Z",
          "shell.execute_reply.started": "2022-10-27T14:23:12.15265Z",
          "shell.execute_reply": "2022-10-27T14:23:44.754794Z"
        },
        "trusted": true,
        "id": "5AJEtMxd0cO-",
        "colab": {
          "base_uri": "https://localhost:8080/"
        },
        "outputId": "675ba0f0-b343-473c-938f-08bf73034694"
      },
      "execution_count": null,
      "outputs": [
        {
          "output_type": "stream",
          "name": "stdout",
          "text": [
            "Collecting simplejson\n",
            "  Downloading simplejson-3.19.3-cp310-cp310-manylinux_2_5_x86_64.manylinux1_x86_64.manylinux_2_17_x86_64.manylinux2014_x86_64.whl.metadata (3.2 kB)\n",
            "Downloading simplejson-3.19.3-cp310-cp310-manylinux_2_5_x86_64.manylinux1_x86_64.manylinux_2_17_x86_64.manylinux2014_x86_64.whl (137 kB)\n",
            "\u001b[2K   \u001b[90m━━━━━━━━━━━━━━━━━━━━━━━━━━━━━━━━━━━━━━━━\u001b[0m \u001b[32m137.9/137.9 kB\u001b[0m \u001b[31m3.4 MB/s\u001b[0m eta \u001b[36m0:00:00\u001b[0m\n",
            "\u001b[?25hInstalling collected packages: simplejson\n",
            "Successfully installed simplejson-3.19.3\n",
            "Collecting unidecode\n",
            "  Downloading Unidecode-1.3.8-py3-none-any.whl.metadata (13 kB)\n",
            "Downloading Unidecode-1.3.8-py3-none-any.whl (235 kB)\n",
            "\u001b[2K   \u001b[90m━━━━━━━━━━━━━━━━━━━━━━━━━━━━━━━━━━━━━━━━\u001b[0m \u001b[32m235.5/235.5 kB\u001b[0m \u001b[31m5.9 MB/s\u001b[0m eta \u001b[36m0:00:00\u001b[0m\n",
            "\u001b[?25hInstalling collected packages: unidecode\n",
            "Successfully installed unidecode-1.3.8\n",
            "Requirement already satisfied: gdown in /usr/local/lib/python3.10/dist-packages (5.2.0)\n",
            "Requirement already satisfied: beautifulsoup4 in /usr/local/lib/python3.10/dist-packages (from gdown) (4.12.3)\n",
            "Requirement already satisfied: filelock in /usr/local/lib/python3.10/dist-packages (from gdown) (3.16.1)\n",
            "Requirement already satisfied: requests[socks] in /usr/local/lib/python3.10/dist-packages (from gdown) (2.32.3)\n",
            "Requirement already satisfied: tqdm in /usr/local/lib/python3.10/dist-packages (from gdown) (4.66.5)\n",
            "Requirement already satisfied: soupsieve>1.2 in /usr/local/lib/python3.10/dist-packages (from beautifulsoup4->gdown) (2.6)\n",
            "Requirement already satisfied: charset-normalizer<4,>=2 in /usr/local/lib/python3.10/dist-packages (from requests[socks]->gdown) (3.4.0)\n",
            "Requirement already satisfied: idna<4,>=2.5 in /usr/local/lib/python3.10/dist-packages (from requests[socks]->gdown) (3.10)\n",
            "Requirement already satisfied: urllib3<3,>=1.21.1 in /usr/local/lib/python3.10/dist-packages (from requests[socks]->gdown) (2.2.3)\n",
            "Requirement already satisfied: certifi>=2017.4.17 in /usr/local/lib/python3.10/dist-packages (from requests[socks]->gdown) (2024.8.30)\n",
            "Requirement already satisfied: PySocks!=1.5.7,>=1.5.6 in /usr/local/lib/python3.10/dist-packages (from requests[socks]->gdown) (1.7.1)\n"
          ]
        }
      ]
    },
    {
      "cell_type": "markdown",
      "source": [
        "**Creating Individual Directories to Store the Data**"
      ],
      "metadata": {
        "_cell_guid": "3c010802-e211-433e-98ac-dab7b676de98",
        "_uuid": "fda10007-9452-4f53-9aae-bceabac984ea",
        "execution": {
          "iopub.execute_input": "2022-10-18T09:59:10.534062Z",
          "iopub.status.busy": "2022-10-18T09:59:10.533686Z",
          "iopub.status.idle": "2022-10-18T09:59:10.556361Z",
          "shell.execute_reply": "2022-10-18T09:59:10.555426Z",
          "shell.execute_reply.started": "2022-10-18T09:59:10.533995Z"
        },
        "papermill": {
          "duration": 0.017647,
          "end_time": "2022-10-25T15:24:09.557423",
          "exception": false,
          "start_time": "2022-10-25T15:24:09.539776",
          "status": "completed"
        },
        "tags": [],
        "id": "dPDxytSk0cPB"
      }
    },
    {
      "cell_type": "code",
      "source": [
        "!mkdir datasets\n",
        "!mkdir datasets/raw\n",
        "!mkdir datasets/raw/iam\n",
        "!mkdir datasets/raw/iam/words\n",
        "!mkdir datasets/raw/breta\n",
        "!mkdir datasets/raw/cvl\n",
        "!mkdir datasets/raw/orand\n",
        "!tree -a datasets/"
      ],
      "metadata": {
        "_cell_guid": "798e19c2-fa06-4e77-b354-b35a90b9b296",
        "_uuid": "9fde743d-a7cf-4f7c-b456-9140c3031776",
        "jupyter": {
          "outputs_hidden": false
        },
        "papermill": {
          "duration": 7.748973,
          "end_time": "2022-10-25T15:24:17.324217",
          "exception": false,
          "start_time": "2022-10-25T15:24:09.575244",
          "status": "completed"
        },
        "tags": [],
        "execution": {
          "iopub.status.busy": "2022-10-27T11:15:12.145929Z",
          "iopub.execute_input": "2022-10-27T11:15:12.147268Z",
          "iopub.status.idle": "2022-10-27T11:15:21.025651Z",
          "shell.execute_reply.started": "2022-10-27T11:15:12.147214Z",
          "shell.execute_reply": "2022-10-27T11:15:21.023981Z"
        },
        "trusted": true,
        "id": "bp0O7yxH0cPC",
        "outputId": "bd19b109-2b37-4c8d-861e-33aa079ab90b",
        "colab": {
          "base_uri": "https://localhost:8080/"
        }
      },
      "execution_count": null,
      "outputs": [
        {
          "output_type": "stream",
          "name": "stdout",
          "text": [
            "/bin/bash: line 1: tree: command not found\n"
          ]
        }
      ]
    },
    {
      "cell_type": "code",
      "source": [
        "!gdown 1eVyNNqGaYq0SFPKURC83Kg1M5Z7AY_pD\n",
        "\n",
        "with ZipFile(\"data_2.zip\", 'r') as zObject:\n",
        "    zObject.extractall(path=\"datasets/raw/breta/\")\n",
        "!rm -r data_2.zip"
      ],
      "metadata": {
        "_cell_guid": "b17784a3-c9ce-4488-86b6-a52ee58886bc",
        "_uuid": "693c2033-9d87-49ea-acdd-94756acb2a52",
        "jupyter": {
          "outputs_hidden": false
        },
        "papermill": {
          "duration": 7.175404,
          "end_time": "2022-10-25T15:24:24.595572",
          "exception": false,
          "start_time": "2022-10-25T15:24:17.420168",
          "status": "completed"
        },
        "tags": [],
        "execution": {
          "iopub.status.busy": "2022-10-27T11:17:07.001331Z",
          "iopub.execute_input": "2022-10-27T11:17:07.001845Z",
          "iopub.status.idle": "2022-10-27T11:17:14.820479Z",
          "shell.execute_reply.started": "2022-10-27T11:17:07.001777Z",
          "shell.execute_reply": "2022-10-27T11:17:14.818365Z"
        },
        "trusted": true,
        "id": "k5dh8xxn0cPF",
        "outputId": "945ff24d-be2e-4fb3-ec8b-e15fbdf5d973",
        "colab": {
          "base_uri": "https://localhost:8080/"
        }
      },
      "execution_count": 4,
      "outputs": [
        {
          "output_type": "stream",
          "name": "stdout",
          "text": [
            "Downloading...\n",
            "From (original): https://drive.google.com/uc?id=1eVyNNqGaYq0SFPKURC83Kg1M5Z7AY_pD\n",
            "From (redirected): https://drive.google.com/uc?id=1eVyNNqGaYq0SFPKURC83Kg1M5Z7AY_pD&confirm=t&uuid=2e42318c-e962-4eee-9bc1-de2192178e14\n",
            "To: /content/data_2.zip\n",
            "100% 84.3M/84.3M [00:01<00:00, 53.5MB/s]\n"
          ]
        }
      ]
    },
    {
      "cell_type": "code",
      "source": [
        "!wget --save-cookies cookies.txt \\\n",
        "    --keep-session-cookies \\\n",
        "    --post-data 'email=rahuldhanola31@gmail.com&password=@IAM@HANDWRITING@Dataset' \\\n",
        "    --delete-after \\\n",
        "    https://fki.tic.heia-fr.ch/login\n",
        "\n",
        "!wget --load-cookies cookies.txt \\\n",
        "https://fki.tic.heia-fr.ch/DBs/iamDB/data/ascii.tgz\n",
        "\n",
        "!wget --load-cookies cookies.txt \\\n",
        "https://fki.tic.heia-fr.ch/DBs/iamDB/data/words.tgz\n",
        "\n",
        "tarfile.open('./ascii.tgz').extractall('datasets/raw/iam/')\n",
        "\n",
        "tarfile.open('./words.tgz').extractall('datasets/raw/iam/words')\n",
        "\n",
        "!rm -r words.tgz ascii.tgz cookies.txt datasets/raw/iam/lines.txt datasets/raw/iam/forms.txt datasets/raw/iam/sentences.txt"
      ],
      "metadata": {
        "_cell_guid": "454ad20d-a908-4424-a4b8-2ac10a2d0a7c",
        "_uuid": "74b51fe7-9db5-41f4-a43a-c45ffb8d5962",
        "execution": {
          "iopub.execute_input": "2022-10-25T15:24:24.68072Z",
          "iopub.status.busy": "2022-10-25T15:24:24.680326Z",
          "iopub.status.idle": "2022-10-25T15:26:02.631831Z",
          "shell.execute_reply": "2022-10-25T15:26:02.630251Z"
        },
        "jupyter": {
          "outputs_hidden": false
        },
        "papermill": {
          "duration": 97.975892,
          "end_time": "2022-10-25T15:26:02.6352",
          "exception": false,
          "start_time": "2022-10-25T15:24:24.659308",
          "status": "completed"
        },
        "tags": [],
        "id": "EuHvNouQ0cPF",
        "outputId": "d633a0a6-b991-4568-b8c6-a6e936629773",
        "colab": {
          "base_uri": "https://localhost:8080/"
        }
      },
      "execution_count": null,
      "outputs": [
        {
          "output_type": "stream",
          "name": "stdout",
          "text": [
            "--2024-10-15 15:41:20--  https://fki.tic.heia-fr.ch/login\n",
            "Resolving fki.tic.heia-fr.ch (fki.tic.heia-fr.ch)... 160.98.46.146\n",
            "Connecting to fki.tic.heia-fr.ch (fki.tic.heia-fr.ch)|160.98.46.146|:443... connected.\n",
            "HTTP request sent, awaiting response... 302 FOUND\n",
            "Location: http://fki.tic.heia-fr.ch/ [following]\n",
            "--2024-10-15 15:41:20--  http://fki.tic.heia-fr.ch/\n",
            "Connecting to fki.tic.heia-fr.ch (fki.tic.heia-fr.ch)|160.98.46.146|:80... connected.\n",
            "HTTP request sent, awaiting response... 301 Moved Permanently\n",
            "Location: https://fki.tic.heia-fr.ch/ [following]\n",
            "--2024-10-15 15:41:21--  https://fki.tic.heia-fr.ch/\n",
            "Connecting to fki.tic.heia-fr.ch (fki.tic.heia-fr.ch)|160.98.46.146|:443... connected.\n",
            "HTTP request sent, awaiting response... 200 OK\n",
            "Length: 4462 (4.4K) [text/html]\n",
            "Saving to: ‘login.tmp’\n",
            "\n",
            "login.tmp           100%[===================>]   4.36K  --.-KB/s    in 0s      \n",
            "\n",
            "2024-10-15 15:41:21 (1.04 GB/s) - ‘login.tmp’ saved [4462/4462]\n",
            "\n",
            "Removing login.tmp.\n",
            "--2024-10-15 15:41:21--  https://fki.tic.heia-fr.ch/DBs/iamDB/data/ascii.tgz\n",
            "Resolving fki.tic.heia-fr.ch (fki.tic.heia-fr.ch)... 160.98.46.146\n",
            "Connecting to fki.tic.heia-fr.ch (fki.tic.heia-fr.ch)|160.98.46.146|:443... connected.\n",
            "HTTP request sent, awaiting response... 200 OK\n",
            "Length: 2614394 (2.5M) [application/x-tar]\n",
            "Saving to: ‘ascii.tgz’\n",
            "\n",
            "ascii.tgz           100%[===================>]   2.49M  3.69MB/s    in 0.7s    \n",
            "\n",
            "2024-10-15 15:41:22 (3.69 MB/s) - ‘ascii.tgz’ saved [2614394/2614394]\n",
            "\n",
            "--2024-10-15 15:41:22--  https://fki.tic.heia-fr.ch/DBs/iamDB/data/words.tgz\n",
            "Resolving fki.tic.heia-fr.ch (fki.tic.heia-fr.ch)... 160.98.46.146\n",
            "Connecting to fki.tic.heia-fr.ch (fki.tic.heia-fr.ch)|160.98.46.146|:443... connected.\n",
            "HTTP request sent, awaiting response... 200 OK\n",
            "Length: 820873660 (783M) [application/x-tar]\n",
            "Saving to: ‘words.tgz’\n",
            "\n",
            "words.tgz           100%[===================>] 782.85M  29.1MB/s    in 26s     \n",
            "\n",
            "2024-10-15 15:41:48 (30.6 MB/s) - ‘words.tgz’ saved [820873660/820873660]\n",
            "\n"
          ]
        }
      ]
    },
    {
      "cell_type": "code",
      "source": [
        "r = requests.get(\n",
        "    'https://zenodo.org/record/1492267/files/cvl-database-1-1.zip?download=1')\n",
        "\n",
        "z = zipfile.ZipFile(io.BytesIO(r.content))\n",
        "z.extractall(\"datasets/raw/cvl/\")"
      ],
      "metadata": {
        "_cell_guid": "955ef918-e1f6-49db-8e2b-2979381cd24a",
        "_uuid": "a7fca8f1-4513-4be7-9347-5b1c1f7c596d",
        "execution": {
          "iopub.execute_input": "2022-10-25T15:26:02.881036Z",
          "iopub.status.busy": "2022-10-25T15:26:02.880181Z",
          "iopub.status.idle": "2022-10-25T15:29:58.122061Z",
          "shell.execute_reply": "2022-10-25T15:29:58.120928Z"
        },
        "jupyter": {
          "outputs_hidden": false
        },
        "papermill": {
          "duration": 235.296041,
          "end_time": "2022-10-25T15:29:58.124892",
          "exception": false,
          "start_time": "2022-10-25T15:26:02.828851",
          "status": "completed"
        },
        "tags": [],
        "id": "U5obiqDA0cPG"
      },
      "execution_count": 3,
      "outputs": []
    },
    {
      "cell_type": "code",
      "source": [
        "import tarfile\n",
        "!wget https://www.orand.cl/orand_car/ORAND-CAR-2014.tar.gz\n",
        "\n",
        "tarfile.open('./ORAND-CAR-2014.tar.gz').extractall('datasets/raw/orand/')\n",
        "\n",
        "!rm -r ORAND-CAR-2014.tar.gz"
      ],
      "metadata": {
        "_cell_guid": "fdae949a-d71a-4607-97b8-15cc2d4f86db",
        "_uuid": "bf0192e7-1269-457e-a237-6fe19a7a5522",
        "execution": {
          "iopub.execute_input": "2022-10-25T15:30:01.774382Z",
          "iopub.status.busy": "2022-10-25T15:30:01.773998Z",
          "iopub.status.idle": "2022-10-25T15:30:15.405999Z",
          "shell.execute_reply": "2022-10-25T15:30:15.404657Z"
        },
        "jupyter": {
          "outputs_hidden": false
        },
        "papermill": {
          "duration": 13.668067,
          "end_time": "2022-10-25T15:30:15.408639",
          "exception": false,
          "start_time": "2022-10-25T15:30:01.740572",
          "status": "completed"
        },
        "tags": [],
        "id": "2Ip3sUcN0cPG",
        "outputId": "85624dab-f643-4f05-aa12-b345840b8d01",
        "colab": {
          "base_uri": "https://localhost:8080/"
        }
      },
      "execution_count": 5,
      "outputs": [
        {
          "output_type": "stream",
          "name": "stdout",
          "text": [
            "--2024-10-16 15:51:14--  https://www.orand.cl/orand_car/ORAND-CAR-2014.tar.gz\n",
            "Resolving www.orand.cl (www.orand.cl)... 162.241.225.60\n",
            "Connecting to www.orand.cl (www.orand.cl)|162.241.225.60|:443... connected.\n",
            "HTTP request sent, awaiting response... 200 OK\n",
            "Length: 203530245 (194M) [application/x-gzip]\n",
            "Saving to: ‘ORAND-CAR-2014.tar.gz’\n",
            "\n",
            "ORAND-CAR-2014.tar. 100%[===================>] 194.10M  65.4MB/s    in 3.0s    \n",
            "\n",
            "2024-10-16 15:51:18 (65.4 MB/s) - ‘ORAND-CAR-2014.tar.gz’ saved [203530245/203530245]\n",
            "\n"
          ]
        }
      ]
    },
    {
      "cell_type": "code",
      "source": [
        "plt.figure(figsize=(8, 10))\n",
        "\n",
        "img_list = sample(os.listdir('datasets/raw/breta/raw/breta/en_raw/'), 6)\n",
        "\n",
        "for i in range(6):\n",
        "    ax = plt.subplot(2, 3, i + 1)\n",
        "    img_dir = 'datasets/raw/breta/raw/breta/en_raw/' + img_list[i]\n",
        "    image = cv2.imread(img_dir, cv2.IMREAD_GRAYSCALE)\n",
        "    plt.imshow(image, cmap='gray')\n",
        "    plt.title(img_list[i].split('_')[0], fontsize=40)\n",
        "    plt.axis('off')"
      ],
      "metadata": {
        "_cell_guid": "7c3969b4-d46e-416f-ab93-2929d966a598",
        "_uuid": "d291a1ff-bc0f-4d18-abbe-5ffefdfa560b",
        "execution": {
          "iopub.execute_input": "2022-10-25T15:30:15.62219Z",
          "iopub.status.busy": "2022-10-25T15:30:15.621783Z",
          "iopub.status.idle": "2022-10-25T15:30:16.329576Z",
          "shell.execute_reply": "2022-10-25T15:30:16.328634Z"
        },
        "jupyter": {
          "outputs_hidden": false
        },
        "papermill": {
          "duration": 0.746836,
          "end_time": "2022-10-25T15:30:16.333334",
          "exception": false,
          "start_time": "2022-10-25T15:30:15.586498",
          "status": "completed"
        },
        "tags": [],
        "id": "O5PSyOKE0cPG",
        "outputId": "8812e741-a9e8-4106-f6f4-10e8e7717936",
        "colab": {
          "base_uri": "https://localhost:8080/",
          "height": 602
        }
      },
      "execution_count": 6,
      "outputs": [
        {
          "output_type": "display_data",
          "data": {
            "text/plain": [
              "<Figure size 800x1000 with 6 Axes>"
            ],
            "image/png": "[encoded data removed]"
          },
          "metadata": {}
        }
      ]
    },
    {
      "cell_type": "code",
      "source": [
        "plt.figure(figsize=(8, 10))\n",
        "\n",
        "img_list = sample(\n",
        "    os.listdir('datasets/raw/cvl/cvl-database-1-1/trainset/words/0018'), 6)\n",
        "\n",
        "for i in range(6):\n",
        "    ax = plt.subplot(2, 3, i + 1)\n",
        "    img_dir = 'datasets/raw/cvl/cvl-database-1-1/trainset/words/0018/' + \\\n",
        "        img_list[i]\n",
        "    image = cv2.imread(img_dir, cv2.IMREAD_GRAYSCALE)\n",
        "    plt.imshow(image, cmap='gray')\n",
        "    plt.title(img_list[i].split('-')[4].split('.')[0], fontsize=40)\n",
        "    plt.axis('off')"
      ],
      "metadata": {
        "_cell_guid": "507b4208-c4b1-4636-8014-996295532ae4",
        "_uuid": "b4e1c605-c213-4248-b04d-51bcc9d0fd6b",
        "execution": {
          "iopub.execute_input": "2022-10-25T15:30:17.057277Z",
          "iopub.status.busy": "2022-10-25T15:30:17.056909Z",
          "iopub.status.idle": "2022-10-25T15:30:17.569422Z",
          "shell.execute_reply": "2022-10-25T15:30:17.568394Z"
        },
        "jupyter": {
          "outputs_hidden": false
        },
        "papermill": {
          "duration": 0.5558,
          "end_time": "2022-10-25T15:30:17.574097",
          "exception": false,
          "start_time": "2022-10-25T15:30:17.018297",
          "status": "completed"
        },
        "tags": [],
        "id": "P58h7kaF0cPG",
        "outputId": "90c51bea-0a76-4026-af84-05944803d228",
        "colab": {
          "base_uri": "https://localhost:8080/",
          "height": 608
        }
      },
      "execution_count": 9,
      "outputs": [
        {
          "output_type": "display_data",
          "data": {
            "text/plain": [
              "<Figure size 800x1000 with 6 Axes>"
            ],
            "image/png": "[encoded data removed]"
          },
          "metadata": {}
        }
      ]
    },
    {
      "cell_type": "code",
      "source": [
        "plt.figure(figsize=(10, 8))\n",
        "\n",
        "img_list = sample(\n",
        "    os.listdir('datasets/raw/orand/ORAND-CAR-2014/CAR-A/a_train_images/'), 6)\n",
        "\n",
        "for i in range(6):\n",
        "    ax = plt.subplot(2, 3, i + 1)\n",
        "    img_dir = 'datasets/raw/orand/ORAND-CAR-2014/CAR-A/a_train_images/' + \\\n",
        "        img_list[i]\n",
        "    image = cv2.imread(img_dir, cv2.IMREAD_GRAYSCALE)\n",
        "    plt.imshow(image, cmap='gray')\n",
        "    plt.axis('off')"
      ],
      "metadata": {
        "_cell_guid": "2a782201-b34c-416f-8589-d2e19c7cb105",
        "_uuid": "505f534e-95c5-483a-840f-7de8292c3499",
        "execution": {
          "iopub.execute_input": "2022-10-25T15:30:17.758311Z",
          "iopub.status.busy": "2022-10-25T15:30:17.757934Z",
          "iopub.status.idle": "2022-10-25T15:30:18.4412Z",
          "shell.execute_reply": "2022-10-25T15:30:18.440276Z"
        },
        "jupyter": {
          "outputs_hidden": false
        },
        "papermill": {
          "duration": 0.726177,
          "end_time": "2022-10-25T15:30:18.44473",
          "exception": false,
          "start_time": "2022-10-25T15:30:17.718553",
          "status": "completed"
        },
        "tags": [],
        "id": "kMtH1-vN0cPH",
        "outputId": "515f9e99-75d4-435c-a376-37a7070d5649",
        "colab": {
          "base_uri": "https://localhost:8080/",
          "height": 478
        }
      },
      "execution_count": 10,
      "outputs": [
        {
          "output_type": "display_data",
          "data": {
            "text/plain": [
              "<Figure size 1000x800 with 6 Axes>"
            ],
            "image/png": "[encoded data removed]"
          },
          "metadata": {}
        }
      ]
    },
    {
      "cell_type": "markdown",
      "source": [
        "**Creating Various Helping Functions**"
      ],
      "metadata": {
        "_cell_guid": "427c1dcf-fa13-40b7-85aa-6b4c684e8f39",
        "_uuid": "9208611a-6cdd-43b7-9b1b-3a7efd06351e",
        "papermill": {
          "duration": 0.040693,
          "end_time": "2022-10-25T15:30:18.527609",
          "exception": false,
          "start_time": "2022-10-25T15:30:18.486916",
          "status": "completed"
        },
        "tags": [],
        "id": "-T4685JW0cPH"
      }
    },
    {
      "cell_type": "code",
      "source": [
        "def print_progress_bar(iteration, total, prefix='', suffix=''):\n",
        "    if iteration % (total // 100) == 0:\n",
        "        length = 40\n",
        "        iteration += 1\n",
        "        percent = (100 * iteration) // (total * 99 / 100)\n",
        "        filled_length = int(length * percent / 100)\n",
        "        bar = '█' * filled_length + '-' * (length - filled_length)\n",
        "        print('\\r%s |%s| %s%% %s' % (prefix, bar, percent, suffix), end='\\r')\n",
        "\n",
        "        if iteration >= total * 99 / 100:\n",
        "            print()"
      ],
      "metadata": {
        "_cell_guid": "ec9464ff-124a-46b6-878a-24f82de9c686",
        "_uuid": "f82f0d79-068a-493d-bda7-d284f9173ecb",
        "jupyter": {
          "outputs_hidden": false
        },
        "papermill": {
          "duration": 0.052016,
          "end_time": "2022-10-25T15:30:18.701051",
          "exception": false,
          "start_time": "2022-10-25T15:30:18.649035",
          "status": "completed"
        },
        "tags": [],
        "execution": {
          "iopub.status.busy": "2022-10-27T14:23:44.760862Z",
          "iopub.execute_input": "2022-10-27T14:23:44.761798Z",
          "iopub.status.idle": "2022-10-27T14:23:44.769433Z",
          "shell.execute_reply.started": "2022-10-27T14:23:44.761767Z",
          "shell.execute_reply": "2022-10-27T14:23:44.768325Z"
        },
        "trusted": true,
        "id": "vsoZUale0cPH"
      },
      "execution_count": 11,
      "outputs": []
    },
    {
      "cell_type": "markdown",
      "source": [
        "**Google Drive Data**"
      ],
      "metadata": {
        "_cell_guid": "5b97f554-299b-4722-abcc-26abbaec3906",
        "_uuid": "f7a68e39-d354-49b1-8bbe-07f5cd3c42fe",
        "papermill": {
          "duration": 0.039682,
          "end_time": "2022-10-25T15:30:18.861915",
          "exception": false,
          "start_time": "2022-10-25T15:30:18.822233",
          "status": "completed"
        },
        "tags": [],
        "id": "qD6zORrk0cPI"
      }
    },
    {
      "cell_type": "code",
      "source": [
        "def extract_breta(location, output, number=1):\n",
        "\n",
        "    output = os.path.join(location, output)\n",
        "\n",
        "    if not os.path.exists(output):\n",
        "        os.makedirs(output)\n",
        "\n",
        "\n",
        "    for sub in [\n",
        "            'raw/breta/words', 'raw/breta/archive', 'raw/breta/cz_raw',\n",
        "            'raw/breta/en_raw'\n",
        "    ]:\n",
        "        folder = os.path.join(location, sub)\n",
        "\n",
        "\n",
        "        img_list = os.listdir(os.path.join(folder))\n",
        "\n",
        "        for i, data in enumerate(img_list):\n",
        "            word = data.split('_')[0]\n",
        "            img = os.path.join(folder, data)\n",
        "            out = os.path.join(\n",
        "                output,\n",
        "                '%s_%s_%s.png' % (word, number, data.split('_')[-1][:-4]))\n",
        "            Image.open(img).save(out)\n",
        "\n",
        "            print_progress_bar(i, len(img_list))\n",
        "\n",
        "    print(\"\\tNumber of words:\", len([n for n in os.listdir(output)]))"
      ],
      "metadata": {
        "_cell_guid": "0550add7-f799-43ab-b94a-d8c2115f5f18",
        "_uuid": "7ff11030-df98-48d7-a67d-3f20056cb997",
        "jupyter": {
          "outputs_hidden": false
        },
        "papermill": {
          "duration": 0.054042,
          "end_time": "2022-10-25T15:30:18.955882",
          "exception": false,
          "start_time": "2022-10-25T15:30:18.90184",
          "status": "completed"
        },
        "tags": [],
        "execution": {
          "iopub.status.busy": "2022-10-27T14:23:44.770702Z",
          "iopub.execute_input": "2022-10-27T14:23:44.771118Z",
          "iopub.status.idle": "2022-10-27T14:23:44.785953Z",
          "shell.execute_reply.started": "2022-10-27T14:23:44.771075Z",
          "shell.execute_reply": "2022-10-27T14:23:44.784983Z"
        },
        "trusted": true,
        "id": "gBvvdSiz0cPI"
      },
      "execution_count": 12,
      "outputs": []
    },
    {
      "cell_type": "markdown",
      "source": [
        "**IAM Data**"
      ],
      "metadata": {
        "_cell_guid": "dae49310-2f37-4b1e-b664-b78191d5fe69",
        "_uuid": "013d099f-c3d4-4278-876f-de728144e89c",
        "papermill": {
          "duration": 0.041324,
          "end_time": "2022-10-25T15:30:19.039509",
          "exception": false,
          "start_time": "2022-10-25T15:30:18.998185",
          "status": "completed"
        },
        "tags": [],
        "id": "bOAgWsFz0cPJ"
      }
    },
    {
      "cell_type": "code",
      "source": [
        "prohibited = [\n",
        "    ',', '(', ')', ';', ':', '/', '\\\\', '#', '\"', '?', '!', '*', '_', '&'\n",
        "]\n",
        "\n",
        "def extract_iam(location, output, number=2):\n",
        "\n",
        "    output = os.path.join(location, output)\n",
        "    err_output = os.path.join(location, 'words_with_error')\n",
        "\n",
        "    if not os.path.exists(output):\n",
        "        os.makedirs(output)\n",
        "\n",
        "    if not os.path.exists(err_output):\n",
        "        os.makedirs(err_output)\n",
        "\n",
        "    folder = os.path.join(location, 'words')\n",
        "    label_file = os.path.join(location, 'words.txt')\n",
        "\n",
        "    length = len(open(label_file).readlines())\n",
        "\n",
        "    with open(label_file) as fp:\n",
        "        for i, line in enumerate(fp):\n",
        "            if line[0] != '#':\n",
        "                l = line.strip().split(\" \")\n",
        "                impath = os.path.join(\n",
        "                    folder, l[0].split('-')[0],\n",
        "                    l[0].split('-')[0] + '-' + l[0].split('-')[1],\n",
        "                    l[0] + '.png')\n",
        "                word = l[-1]\n",
        "\n",
        "                if (os.stat(impath).st_size != 0\n",
        "                        and word not in ['.', '-', \"'\"]\n",
        "                        and not any(i in word for i in prohibited)):\n",
        "\n",
        "                    out = output if l[1] == 'ok' else err_output\n",
        "                    outpath = os.path.join(\n",
        "                        out, \"%s_%s_%s.png\" % (word, number, time.time()))\n",
        "\n",
        "                    copyfile(impath, outpath)\n",
        "\n",
        "            print_progress_bar(i, length)\n",
        "\n",
        "    print(\"\\tNumber of words:\", len([n for n in os.listdir(output)]))"
      ],
      "metadata": {
        "_cell_guid": "e9ecce14-42fd-439e-806f-d506329dfa2d",
        "_uuid": "1b8fde5b-2f00-4879-b91a-b7e6d52554d4",
        "jupyter": {
          "outputs_hidden": false
        },
        "papermill": {
          "duration": 0.055158,
          "end_time": "2022-10-25T15:30:19.135577",
          "exception": false,
          "start_time": "2022-10-25T15:30:19.080419",
          "status": "completed"
        },
        "tags": [],
        "execution": {
          "iopub.status.busy": "2022-10-27T14:23:44.789153Z",
          "iopub.execute_input": "2022-10-27T14:23:44.790174Z",
          "iopub.status.idle": "2022-10-27T14:23:44.804097Z",
          "shell.execute_reply.started": "2022-10-27T14:23:44.790133Z",
          "shell.execute_reply": "2022-10-27T14:23:44.803047Z"
        },
        "trusted": true,
        "id": "l3ACa00t0cPJ"
      },
      "execution_count": 13,
      "outputs": []
    },
    {
      "cell_type": "markdown",
      "source": [
        "**CVL Data**"
      ],
      "metadata": {
        "_cell_guid": "55586cea-569a-4cf6-96d9-26e85ecca91c",
        "_uuid": "2b395d32-b2d8-432c-abd9-b29b973d97d8",
        "papermill": {
          "duration": 0.040025,
          "end_time": "2022-10-25T15:30:19.215973",
          "exception": false,
          "start_time": "2022-10-25T15:30:19.175948",
          "status": "completed"
        },
        "tags": [],
        "id": "e-gsflGT0cPJ"
      }
    },
    {
      "cell_type": "code",
      "source": [
        "def extract_cvl(location, output, number=3):\n",
        "\n",
        "    output = os.path.join(location, output)\n",
        "    if not os.path.exists(output):\n",
        "        os.makedirs(output)\n",
        "\n",
        "    for sub in ['cvl-database-1-1/testset', 'cvl-database-1-1/trainset']:\n",
        "        folder = os.path.join(location, sub)\n",
        "\n",
        "        images = glob.glob(os.path.join(folder, 'words', '*', '*.tif'))\n",
        "\n",
        "        for i, im in enumerate(images):\n",
        "            word = re.search('\\/\\d+-\\d+-\\d+-\\d+-(.+?).tif', im).group(1)\n",
        "            word = unidecode.unidecode(word)\n",
        "\n",
        "            if os.stat(im).st_size != 0:\n",
        "                outpath = os.path.join(\n",
        "                    output, '%s_%s_%s.png' % (word, number, time.time()))\n",
        "                Image.open(im).save(outpath)\n",
        "\n",
        "            print_progress_bar(i, len(images))\n",
        "    print(\"\\tNumber of words:\", len([n for n in os.listdir(output)]))"
      ],
      "metadata": {
        "_cell_guid": "dd736c00-9cff-4bfe-ad33-1883e22e104c",
        "_uuid": "2fc88c76-6667-4fc1-992f-2ab7ce5c8b55",
        "jupyter": {
          "outputs_hidden": false
        },
        "papermill": {
          "duration": 0.052224,
          "end_time": "2022-10-25T15:30:19.308408",
          "exception": false,
          "start_time": "2022-10-25T15:30:19.256184",
          "status": "completed"
        },
        "tags": [],
        "execution": {
          "iopub.status.busy": "2022-10-27T14:23:44.805313Z",
          "iopub.execute_input": "2022-10-27T14:23:44.80618Z",
          "iopub.status.idle": "2022-10-27T14:23:44.81976Z",
          "shell.execute_reply.started": "2022-10-27T14:23:44.806145Z",
          "shell.execute_reply": "2022-10-27T14:23:44.81868Z"
        },
        "trusted": true,
        "id": "elGgztra0cPK"
      },
      "execution_count": 14,
      "outputs": []
    },
    {
      "cell_type": "markdown",
      "source": [
        "**ORAND Data**"
      ],
      "metadata": {
        "_cell_guid": "d18e4a62-1183-457d-9921-ffe86e34f5f7",
        "_uuid": "55835fa7-2d20-4d02-b50e-3e9bae280c8b",
        "papermill": {
          "duration": 0.042291,
          "end_time": "2022-10-25T15:30:19.39132",
          "exception": false,
          "start_time": "2022-10-25T15:30:19.349029",
          "status": "completed"
        },
        "tags": [],
        "id": "7iONfp7F0cPL"
      }
    },
    {
      "cell_type": "code",
      "source": [
        "def extract_orand(location, output, number=4):\n",
        "\n",
        "    output = os.path.join(location, output)\n",
        "    if not os.path.exists(output):\n",
        "        os.makedirs(output)\n",
        "\n",
        "\n",
        "    for sub in ['ORAND-CAR-2014/CAR-A', 'ORAND-CAR-2014/CAR-B']:\n",
        "        folder = os.path.join(location, sub)\n",
        "\n",
        "\n",
        "        l_files = glob.glob(os.path.join(folder, '*.txt'))\n",
        "        length = sum(1 for fl in l_files for line in open(fl))\n",
        "\n",
        "        itr = 0\n",
        "\n",
        "        for fl in l_files:\n",
        "            im_folder = fl[:-6] + 'images'\n",
        "            with open(fl) as f:\n",
        "                for line in f:\n",
        "                    im, word = line.strip().split('\\t')\n",
        "                    impath = os.path.join(im_folder, im)\n",
        "\n",
        "                    if os.stat(impath).st_size != 0:\n",
        "                        outpath = os.path.join(\n",
        "                            output,\n",
        "                            '%s_%s_%s.png' % (word, number, time.time()))\n",
        "\n",
        "\n",
        "                        copyfile(impath, outpath)\n",
        "\n",
        "                    print_progress_bar(itr, length)\n",
        "                    itr += 1\n",
        "\n",
        "    print(\"\\tNumber of words:\", len([n for n in os.listdir(output)]))"
      ],
      "metadata": {
        "_cell_guid": "928d8fac-0782-4f87-a042-46cf91ee188e",
        "_uuid": "62abb9b0-b2a3-4f51-895f-b66208b2504a",
        "jupyter": {
          "outputs_hidden": false
        },
        "papermill": {
          "duration": 0.055162,
          "end_time": "2022-10-25T15:30:19.48846",
          "exception": false,
          "start_time": "2022-10-25T15:30:19.433298",
          "status": "completed"
        },
        "tags": [],
        "execution": {
          "iopub.status.busy": "2022-10-27T14:23:44.822501Z",
          "iopub.execute_input": "2022-10-27T14:23:44.823174Z",
          "iopub.status.idle": "2022-10-27T14:23:44.835504Z",
          "shell.execute_reply.started": "2022-10-27T14:23:44.823139Z",
          "shell.execute_reply": "2022-10-27T14:23:44.834442Z"
        },
        "trusted": true,
        "id": "aVe_CPAU0cPL"
      },
      "execution_count": 15,
      "outputs": []
    },
    {
      "cell_type": "code",
      "source": [
        "SMALL_HEIGHT = 800\n",
        "\n",
        "def implt(img, cmp=None, t=''):\n",
        "    plt.imshow(img, cmap=cmp)\n",
        "    plt.title(t)\n",
        "    plt.show()\n",
        "\n",
        "def resize(img, height=SMALL_HEIGHT, always=False):\n",
        "    if (img.shape[0] > height or always):\n",
        "        rat = height / img.shape[0]\n",
        "        return cv2.resize(img, (int(rat * img.shape[1]), height))\n",
        "\n",
        "    return img\n",
        "\n",
        "def ratio(img, height=SMALL_HEIGHT):\n",
        "    return img.shape[0] / height\n",
        "\n",
        "def img_extend(img, shape):\n",
        "    x = np.zeros(shape, np.uint8)\n",
        "    x[:img.shape[0], :img.shape[1]] = img\n",
        "    return x"
      ],
      "metadata": {
        "_cell_guid": "3d44dc62-01ab-4543-bab5-e63fcd2a76c8",
        "_uuid": "c70c249e-8aee-4d11-9114-28dcaeb91951",
        "jupyter": {
          "outputs_hidden": false
        },
        "papermill": {
          "duration": 0.052168,
          "end_time": "2022-10-25T15:30:19.661712",
          "exception": false,
          "start_time": "2022-10-25T15:30:19.609544",
          "status": "completed"
        },
        "tags": [],
        "execution": {
          "iopub.status.busy": "2022-10-27T14:23:44.83717Z",
          "iopub.execute_input": "2022-10-27T14:23:44.837763Z",
          "iopub.status.idle": "2022-10-27T14:23:44.851004Z",
          "shell.execute_reply.started": "2022-10-27T14:23:44.837729Z",
          "shell.execute_reply": "2022-10-27T14:23:44.849781Z"
        },
        "trusted": true,
        "id": "jkkKxcf50cPN"
      },
      "execution_count": 16,
      "outputs": []
    },
    {
      "cell_type": "code",
      "source": [
        "def page_detection(image, area_thresh = 0.5):\n",
        "\n",
        "    small = resize(image)\n",
        "\n",
        "    image_edges = _edges_detection(small, 200, 250)\n",
        "\n",
        "    closed_edges = cv2.morphologyEx(image_edges,\n",
        "                                    cv2.MORPH_CLOSE,\n",
        "                                    np.ones((5, 11)))\n",
        "\n",
        "    page_contour = _find_page_contours(closed_edges, small, area_thresh)\n",
        "\n",
        "\n",
        "    page_contour = page_contour.dot(ratio(image, small.shape[0]))\n",
        "\n",
        "    new_image = _persp_transform(image, page_contour)\n",
        "    return new_image\n",
        "\n",
        "def _edges_detection(img, minVal, maxVal):\n",
        "    img = cv2.cvtColor(img, cv2.COLOR_BGR2GRAY)\n",
        "\n",
        "    img = cv2.bilateralFilter(img, 9, 75, 75)\n",
        "    img = cv2.adaptiveThreshold(img, 255,\n",
        "                                cv2.ADAPTIVE_THRESH_GAUSSIAN_C,\n",
        "                                cv2.THRESH_BINARY, 115, 4)\n",
        "\n",
        "\n",
        "    img = cv2.medianBlur(img, 11)\n",
        "\n",
        "\n",
        "    img = cv2.copyMakeBorder(img, 5, 5, 5, 5,\n",
        "                             cv2.BORDER_CONSTANT,\n",
        "                             value=[0, 0, 0])\n",
        "    return cv2.Canny(img, minVal, maxVal)\n",
        "\n",
        "\n",
        "def _four_corners_sort(pts):\n",
        "\n",
        "    diff = np.diff(pts, axis=1)\n",
        "    summ = pts.sum(axis=1)\n",
        "    return np.array([pts[np.argmin(summ)],\n",
        "                     pts[np.argmax(diff)],\n",
        "                     pts[np.argmax(summ)],\n",
        "                     pts[np.argmin(diff)]])\n",
        "\n",
        "\n",
        "def _contour_offset(cnt, offset):\n",
        "\n",
        "    cnt += offset\n",
        "    cnt[cnt < 0] = 0\n",
        "    return cnt\n",
        "\n",
        "\n",
        "def _find_page_contours(edges, img, area_thresh):\n",
        "\n",
        "    contours, hierarchy = cv2.findContours(edges,\n",
        "                                                cv2.RETR_TREE,\n",
        "                                                cv2.CHAIN_APPROX_SIMPLE)\n",
        "\n",
        "    height = edges.shape[0]\n",
        "    width = edges.shape[1]\n",
        "    MIN_COUNTOUR_AREA = height * width * area_thresh\n",
        "    MAX_COUNTOUR_AREA = (width - 10) * (height - 10)\n",
        "\n",
        "    max_area = MIN_COUNTOUR_AREA\n",
        "    page_contour = np.array([[0, 0],\n",
        "                             [0, height-5],\n",
        "                             [width-5, height-5],\n",
        "                             [width-5, 0]])\n",
        "\n",
        "    for cnt in contours:\n",
        "        perimeter = cv2.arcLength(cnt, True)\n",
        "        approx = cv2.approxPolyDP(cnt, 0.03 * perimeter, True)\n",
        "\n",
        "        if (len(approx) == 4 and\n",
        "                cv2.isContourConvex(approx) and\n",
        "                max_area < cv2.contourArea(approx) < MAX_COUNTOUR_AREA):\n",
        "\n",
        "            max_area = cv2.contourArea(approx)\n",
        "            page_contour = approx[:, 0]\n",
        "\n",
        "    page_contour = _four_corners_sort(page_contour)\n",
        "    return _contour_offset(page_contour, (-5, -5))\n",
        "\n",
        "\n",
        "def _persp_transform(img, s_points):\n",
        "\n",
        "    height = max(np.linalg.norm(s_points[0] - s_points[1]),\n",
        "                 np.linalg.norm(s_points[2] - s_points[3]))\n",
        "    width = max(np.linalg.norm(s_points[1] - s_points[2]),\n",
        "                 np.linalg.norm(s_points[3] - s_points[0]))\n",
        "\n",
        "    t_points = np.array([[0, 0],\n",
        "                        [0, height],\n",
        "                        [width, height],\n",
        "                        [width, 0]], np.float32)\n",
        "\n",
        "    if s_points.dtype != np.float32:\n",
        "        s_points = s_points.astype(np.float32)\n",
        "\n",
        "    M = cv2.getPerspectiveTransform(s_points, t_points)\n",
        "    return cv2.warpPerspective(img, M, (int(width), int(height)))"
      ],
      "metadata": {
        "execution": {
          "iopub.status.busy": "2022-10-27T14:23:44.852752Z",
          "iopub.execute_input": "2022-10-27T14:23:44.853506Z",
          "iopub.status.idle": "2022-10-27T14:23:44.874725Z",
          "shell.execute_reply.started": "2022-10-27T14:23:44.853367Z",
          "shell.execute_reply": "2022-10-27T14:23:44.873693Z"
        },
        "trusted": true,
        "id": "8U97Wnw10cPN"
      },
      "execution_count": 17,
      "outputs": []
    },
    {
      "cell_type": "code",
      "source": [
        "\n",
        "def word_detection(image, join=False):\n",
        "\n",
        "    blurred = cv2.GaussianBlur(image, (5, 5), 18)\n",
        "    edge_img = _edge_detect(blurred)\n",
        "    ret, edge_img = cv2.threshold(edge_img, 50, 255, cv2.THRESH_BINARY)\n",
        "    bw_img = cv2.morphologyEx(edge_img, cv2.MORPH_CLOSE,\n",
        "                              np.ones((15,15), np.uint8))\n",
        "\n",
        "    return _text_detect(bw_img, image, join)\n",
        "\n",
        "\n",
        "def sort_words(boxes):\n",
        "\n",
        "    mean_height = sum([y2 - y1 for _, y1, _, y2 in boxes]) / len(boxes)\n",
        "\n",
        "    boxes.view('i8,i8,i8,i8').sort(order=['f1'], axis=0)\n",
        "    current_line = boxes[0][1]\n",
        "    lines = []\n",
        "    tmp_line = []\n",
        "    for box in boxes:\n",
        "        if box[1] > current_line + mean_height:\n",
        "            lines.append(tmp_line)\n",
        "            tmp_line = [box]\n",
        "            current_line = box[1]\n",
        "            continue\n",
        "        tmp_line.append(box)\n",
        "    lines.append(tmp_line)\n",
        "\n",
        "    for line in lines:\n",
        "        line.sort(key=lambda box: box[0])\n",
        "\n",
        "    return lines\n",
        "\n",
        "\n",
        "def _edge_detect(im):\n",
        "\n",
        "    return np.max(np.array([_sobel_detect(im[:,:, 0]),\n",
        "                            _sobel_detect(im[:,:, 1]),\n",
        "                            _sobel_detect(im[:,:, 2])]), axis=0)\n",
        "\n",
        "def _sobel_detect(channel):\n",
        "\n",
        "    sobelX = cv2.Sobel(channel, cv2.CV_16S, 1, 0)\n",
        "    sobelY = cv2.Sobel(channel, cv2.CV_16S, 0, 1)\n",
        "    sobel = np.hypot(sobelX, sobelY)\n",
        "    sobel[sobel > 255] = 255\n",
        "    return np.uint8(sobel)\n",
        "\n",
        "def union(a,b):\n",
        "\n",
        "    x = min(a[0], b[0])\n",
        "    y = min(a[1], b[1])\n",
        "    w = max(a[0]+a[2], b[0]+b[2]) - x\n",
        "    h = max(a[1]+a[3], b[1]+b[3]) - y\n",
        "    return [x, y, w, h]\n",
        "\n",
        "def _intersect(a,b):\n",
        "\n",
        "    x = max(a[0], b[0])\n",
        "    y = max(a[1], b[1])\n",
        "    w = min(a[0]+a[2], b[0]+b[2]) - x\n",
        "    h = min(a[1]+a[3], b[1]+b[3]) - y\n",
        "    if w<0 or h<0:\n",
        "        return False\n",
        "    return True\n",
        "\n",
        "def _group_rectangles(rec):\n",
        "\n",
        "\n",
        "    tested = [False for i in range(len(rec))]\n",
        "    final = []\n",
        "    i = 0\n",
        "    while i < len(rec):\n",
        "        if not tested[i]:\n",
        "            j = i+1\n",
        "            while j < len(rec):\n",
        "                if not tested[j] and _intersect(rec[i], rec[j]):\n",
        "                    rec[i] = union(rec[i], rec[j])\n",
        "                    tested[j] = True\n",
        "                    j = i\n",
        "                j += 1\n",
        "            final += [rec[i]]\n",
        "        i += 1\n",
        "\n",
        "    return final\n",
        "\n",
        "\n",
        "def _text_detect(img, image, join=False):\n",
        "\n",
        "    small = resize(img, 2000)\n",
        "\n",
        "\n",
        "    mask = np.zeros(small.shape, np.uint8)\n",
        "    cnt, hierarchy = cv2.findContours(np.copy(small),\n",
        "                                           cv2.RETR_CCOMP,\n",
        "                                           cv2.CHAIN_APPROX_SIMPLE)\n",
        "\n",
        "    index = 0\n",
        "    boxes = []\n",
        "\n",
        "    while (index >= 0):\n",
        "        x,y,w,h = cv2.boundingRect(cnt[index])\n",
        "        cv2.drawContours(mask, cnt, index, (255, 255, 255), cv2.FILLED)\n",
        "        maskROI = mask[y:y+h, x:x+w]\n",
        "        r = cv2.countNonZero(maskROI) / (w * h)\n",
        "\n",
        "\n",
        "        if (r > 0.1\n",
        "            and 1600 > w > 10\n",
        "            and 1600 > h > 10\n",
        "            and h/w < 3\n",
        "            and w/h < 10\n",
        "            and (60 // h) * w < 1000):\n",
        "            boxes += [[x, y, w, h]]\n",
        "\n",
        "        index = hierarchy[0][index][0]\n",
        "\n",
        "    if join:\n",
        "        boxes = _group_rectangles(boxes)\n",
        "\n",
        "\n",
        "    small = cv2.cvtColor(small, cv2.COLOR_GRAY2RGB)\n",
        "    bounding_boxes = np.array([0,0,0,0])\n",
        "    for (x, y, w, h) in boxes:\n",
        "        cv2.rectangle(small, (x, y),(x+w,y+h), (0, 255, 0), 2)\n",
        "        bounding_boxes = np.vstack((bounding_boxes,\n",
        "                                    np.array([x, y, x+w, y+h])))\n",
        "\n",
        "    implt(small, t='Bounding rectangles')\n",
        "\n",
        "    boxes = bounding_boxes.dot(ratio(image, small.shape[0])).astype(np.int64)\n",
        "    return boxes[1:]\n",
        "\n"
      ],
      "metadata": {
        "execution": {
          "iopub.status.busy": "2022-10-27T14:23:44.876221Z",
          "iopub.execute_input": "2022-10-27T14:23:44.876867Z",
          "iopub.status.idle": "2022-10-27T14:23:44.904701Z",
          "shell.execute_reply.started": "2022-10-27T14:23:44.87683Z",
          "shell.execute_reply": "2022-10-27T14:23:44.903667Z"
        },
        "trusted": true,
        "id": "5fwQiblF0cPO"
      },
      "execution_count": 18,
      "outputs": []
    },
    {
      "cell_type": "code",
      "source": [
        "\n",
        "def _classify(img, step=2, RNN=False, slider=(60, 60)):\n",
        "    length = (img.shape[1] - slider[1])\n",
        "    if RNN:\n",
        "        input_seq = np.zeros((1, length, slider[0]*slider[1]), dtype=np.float32)\n",
        "        input_seq[0][:] = [img[:, loc * step: loc * step + slider[1]].flatten()\n",
        "                           for loc in range(length)]\n",
        "        pred = RNN_model.eval_feed({'inputs:0': input_seq,\n",
        "                                    'length:0': [length],\n",
        "                                    'keep_prob:0': 1})[0]\n",
        "    else:\n",
        "        input_seq = np.zeros((length, slider[0]*slider[1]), dtype=np.float32)\n",
        "        input_seq[:] = [img[:, loc * step: loc * step + slider[1]].flatten()\n",
        "                        for loc in range(length)]\n",
        "        pred = CNN_model.run(input_seq)\n",
        "\n",
        "    return pred\n",
        "\n",
        "\n",
        "def segment(img, step=2, RNN=False, debug=False):#\n",
        "\n",
        "    slider = CNN_slider\n",
        "    if RNN:\n",
        "        slider = RNN_slider\n",
        "\n",
        "    pred = _classify(img, step=step, RNN=RNN, slider=slider)\n",
        "\n",
        "    gaps = []\n",
        "    last_gap = 0\n",
        "    gap_count = 1\n",
        "    gap_position_sum = slider[1] / 2\n",
        "    first_gap = True\n",
        "    gap_block_first = 0\n",
        "    gap_block_last = slider[1] / 2\n",
        "\n",
        "    for i, p in enumerate(pred):\n",
        "        if p == 1:\n",
        "            gap_position_sum += i * step + slider[1] / 2\n",
        "            gap_block_last = i * step + slider[1] / 2\n",
        "            gap_count += 1\n",
        "            last_gap = 0\n",
        "            if gap_block_first == 0:\n",
        "                gap_block_first = i * step + slider[1] / 2\n",
        "        else:\n",
        "            if gap_count != 0 and last_gap >= 1:\n",
        "                if first_gap:\n",
        "                    gaps.append(int(gap_block_last))\n",
        "                    first_gap = False\n",
        "                else:\n",
        "                    gaps.append(int(gap_position_sum // gap_count))\n",
        "                gap_position_sum = 0\n",
        "                gap_count = 0\n",
        "            gap_block_first = 0\n",
        "            last_gap += 1\n",
        "\n",
        "    if gap_block_first != 0:\n",
        "        gaps.append(int(gap_block_first))\n",
        "    else:\n",
        "        gap_position_sum += (len(pred) - 1) * 2 + slider[1]/2\n",
        "        gaps.append(int(gap_position_sum / (gap_count + 1)))\n",
        "\n",
        "    if debug:\n",
        "\n",
        "        img = cv2.cvtColor(img, cv2.COLOR_GRAY2RGB)\n",
        "        for gap in gaps:\n",
        "            cv2.line(img,\n",
        "                     ((int)(gap), 0),\n",
        "                     ((int)(gap), slider[0]),\n",
        "                     (0, 255, 0), 1)\n",
        "        implt(img, t=\"Separated characters\")\n",
        "\n",
        "    return gaps"
      ],
      "metadata": {
        "execution": {
          "iopub.status.busy": "2022-10-27T14:23:44.90918Z",
          "iopub.execute_input": "2022-10-27T14:23:44.909517Z",
          "iopub.status.idle": "2022-10-27T14:23:44.926234Z",
          "shell.execute_reply.started": "2022-10-27T14:23:44.909491Z",
          "shell.execute_reply": "2022-10-27T14:23:44.925166Z"
        },
        "trusted": true,
        "id": "Vz-1KL-P0cPP"
      },
      "execution_count": 19,
      "outputs": []
    },
    {
      "cell_type": "code",
      "source": [
        "def image_standardization(image):\n",
        "\n",
        "    return tf.image.per_image_standardization(image)\n",
        "\n",
        "def _crop_add_border(img, height, threshold=50, border=True, border_size=15):\n",
        "\n",
        "    ret, img = cv2.threshold(img, threshold, 255, cv2.THRESH_TOZERO)\n",
        "\n",
        "    x0 = 0\n",
        "    y0 = 0\n",
        "    x1 = img.shape[1]\n",
        "    y1 = img.shape[0]\n",
        "\n",
        "    for i in range(img.shape[0]):\n",
        "        if np.count_nonzero(img[i, :]) > 1:\n",
        "            y0 = i\n",
        "            break\n",
        "    for i in reversed(range(img.shape[0])):\n",
        "        if np.count_nonzero(img[i, :]) > 1:\n",
        "            y1 = i + 1\n",
        "            break\n",
        "    for i in range(img.shape[1]):\n",
        "        if np.count_nonzero(img[:, i]) > 1:\n",
        "            x0 = i\n",
        "            break\n",
        "    for i in reversed(range(img.shape[1])):\n",
        "        if np.count_nonzero(img[:, i]) > 1:\n",
        "            x1 = i + 1\n",
        "            break\n",
        "\n",
        "    if height != 0:\n",
        "        img = resize(img[y0:y1, x0:x1], height, True)\n",
        "    else:\n",
        "        img = img[y0:y1, x0:x1]\n",
        "\n",
        "    if border:\n",
        "        return cv2.copyMakeBorder(img,\n",
        "                                  0,\n",
        "                                  0,\n",
        "                                  border_size,\n",
        "                                  border_size,\n",
        "                                  cv2.BORDER_CONSTANT,\n",
        "                                  value=[0, 0, 0])\n",
        "    return img\n",
        "\n",
        "def _tilt_by_angle(img, angle, height):\n",
        "    dist = np.tan(angle) * height\n",
        "    width = len(img[0])\n",
        "    sPoints = np.float32([[0, 0], [0, height], [width, height], [width, 0]])\n",
        "\n",
        "    if dist > 0:\n",
        "        tPoints = np.float32([[0, 0], [dist, height], [width + dist, height],\n",
        "                              [width, 0]])\n",
        "    else:\n",
        "        tPoints = np.float32([[-dist, 0], [0, height], [width, height],\n",
        "                              [width - dist, 0]])\n",
        "\n",
        "    M = cv2.getPerspectiveTransform(sPoints, tPoints)\n",
        "\n",
        "    return cv2.warpPerspective(img, M, (int(width + abs(dist)), height))\n",
        "\n",
        "\n",
        "def _word_tilt(img, height, border=True, border_size=15):\n",
        "\n",
        "    edges = cv2.Canny(img, 50, 150, apertureSize=3)\n",
        "\n",
        "    lines = cv2.HoughLines(edges, 1, np.pi / 180, 30)\n",
        "\n",
        "    if lines is not None:\n",
        "        meanAngle = 0\n",
        "        numLines = np.sum(1 for l in lines if l[0][1] < 0.7 or l[0][1] > 2.6)\n",
        "        if numLines > 1:\n",
        "            meanAngle = np.mean(\n",
        "                [l[0][1] for l in lines if l[0][1] < 0.7 or l[0][1] > 2.6])\n",
        "\n",
        "        if meanAngle != 0 and (meanAngle < 0.7 or meanAngle > 2.6):\n",
        "\n",
        "            img = _tilt_by_angle(img, meanAngle, height)\n",
        "    return _crop_add_border(img, height, 50, border, border_size)\n",
        "\n",
        "def _sobel_detect(channel):\n",
        "    sobelX = cv2.Sobel(channel, cv2.CV_16S, 1, 0)\n",
        "    sobelY = cv2.Sobel(channel, cv2.CV_16S, 0, 1)\n",
        "\n",
        "    sobel = np.hypot(sobelX, sobelY)\n",
        "    sobel[sobel > 255] = 255\n",
        "    return np.uint8(sobel)\n",
        "\n",
        "class HysterThresh:\n",
        "    def __init__(self, img):\n",
        "        img = 255 - img\n",
        "        img = (img - np.min(img)) / (np.max(img) - np.min(img)) * 255\n",
        "        hist, bins = np.histogram(img.ravel(), 256, [0, 256])\n",
        "\n",
        "        self.high = np.argmax(hist) + 65\n",
        "        self.low = np.argmax(hist) + 45\n",
        "        self.diff = 255 - self.high\n",
        "\n",
        "        self.img = img\n",
        "        self.im = np.zeros(img.shape, dtype=img.dtype)\n",
        "\n",
        "    def get_image(self):\n",
        "        self._hyster()\n",
        "        return np.uint8(self.im)\n",
        "\n",
        "    def _hyster_rec(self, r, c):\n",
        "        h, w = self.img.shape\n",
        "        for ri in range(r - 1, r + 2):\n",
        "            for ci in range(c - 1, c + 2):\n",
        "                if (h > ri >= 0 and w > ci >= 0 and self.im[ri, ci] == 0\n",
        "                        and self.high > self.img[ri, ci] >= self.low):\n",
        "                    self.im[ri, ci] = self.img[ri, ci] + self.diff\n",
        "                    self._hyster_rec(ri, ci)\n",
        "\n",
        "    def _hyster(self):\n",
        "        r, c = self.img.shape\n",
        "        for ri in range(r):\n",
        "            for ci in range(c):\n",
        "                if (self.img[ri, ci] >= self.high):\n",
        "                    self.im[ri, ci] = 255\n",
        "                    self.img[ri, ci] = 255\n",
        "                    self._hyster_rec(ri, ci)\n",
        "\n",
        "def _hyst_word_norm(image):\n",
        "\n",
        "    gray = cv2.cvtColor(image, cv2.COLOR_RGB2GRAY)\n",
        "    img = cv2.bilateralFilter(gray, 10, 10, 30)\n",
        "    return HysterThresh(img).get_image()\n",
        "\n",
        "def word_normalization(image,\n",
        "                       height,\n",
        "                       border=True,\n",
        "                       tilt=True,\n",
        "                       border_size=15,\n",
        "                       hyst_norm=False):\n",
        "\n",
        "    image = resize(image, height, True)\n",
        "\n",
        "    if hyst_norm:\n",
        "        th = _hyst_word_norm(image)\n",
        "    else:\n",
        "\n",
        "        img = cv2.bilateralFilter(image, 10, 30, 30)\n",
        "        gray = 255 - cv2.cvtColor(img, cv2.COLOR_RGB2GRAY)\n",
        "        norm = cv2.normalize(gray, None, 0, 255, cv2.NORM_MINMAX)\n",
        "        ret, th = cv2.threshold(norm, 50, 255, cv2.THRESH_TOZERO)\n",
        "\n",
        "    if tilt:\n",
        "        return _word_tilt(th, height, border, border_size)\n",
        "    return _crop_add_border(img=th,\n",
        "                            height=height,\n",
        "                            border=border,\n",
        "                            border_size=border_size)\n",
        "\n",
        "\n",
        "def _resize_letter(img, size=56):\n",
        "\n",
        "    if (img.shape[0] > img.shape[1]):\n",
        "        rat = size / img.shape[0]\n",
        "        return cv2.resize(img, (int(rat * img.shape[1]), size))\n",
        "    else:\n",
        "        rat = size / img.shape[1]\n",
        "        return cv2.resize(img, (size, int(rat * img.shape[0])))\n",
        "    return img\n",
        "\n",
        "def letter_normalization(image, is_thresh=True, dim=False):\n",
        "\n",
        "    if is_thresh and image.shape[0] > 0 and image.shape[1] > 0:\n",
        "        image = _crop_add_border(image, height=0, threshold=80, border=False)\n",
        "\n",
        "    resized = image\n",
        "    if image.shape[0] > 1 and image.shape[1] > 1:\n",
        "        resized = _resize_letter(image)\n",
        "\n",
        "    result = np.zeros((64, 64), np.uint8)\n",
        "    offset = [0, 0]\n",
        "\n",
        "    if image.shape[0] > image.shape[1]:\n",
        "        offset = [int((result.shape[1] - resized.shape[1]) / 2), 4]\n",
        "    else:\n",
        "        offset = [4, int((result.shape[0] - resized.shape[0]) / 2)]\n",
        "\n",
        "    result[offset[1]:offset[1] + resized.shape[0],\n",
        "           offset[0]:offset[0] + resized.shape[1]] = resized\n",
        "\n",
        "    if dim:\n",
        "        return result, image.shape\n",
        "    return result"
      ],
      "metadata": {
        "_cell_guid": "15c0aced-2d3e-456c-b63d-01dbb68af1ef",
        "_uuid": "12fe2b94-d565-4435-8c97-74efb6c38f34",
        "jupyter": {
          "outputs_hidden": false
        },
        "papermill": {
          "duration": 0.080632,
          "end_time": "2022-10-25T15:30:19.865507",
          "exception": false,
          "start_time": "2022-10-25T15:30:19.784875",
          "status": "completed"
        },
        "tags": [],
        "execution": {
          "iopub.status.busy": "2022-10-27T14:23:44.927879Z",
          "iopub.execute_input": "2022-10-27T14:23:44.928505Z",
          "iopub.status.idle": "2022-10-27T14:23:44.969747Z",
          "shell.execute_reply.started": "2022-10-27T14:23:44.928466Z",
          "shell.execute_reply": "2022-10-27T14:23:44.968724Z"
        },
        "trusted": true,
        "id": "KpvNQMQc0cPP"
      },
      "execution_count": 20,
      "outputs": []
    },
    {
      "cell_type": "code",
      "source": [
        "def words_norm(location, output):\n",
        "    if os.path.exists(output):\n",
        "        print(\"THIS DATASET IS BEING SKIPPED\")\n",
        "        print(\"Output folder already exists:\", output)\n",
        "        return 1\n",
        "    else:\n",
        "        output = os.path.join(output, 'words_nolines')\n",
        "        os.makedirs(output)\n",
        "\n",
        "    imgs = glob.glob(os.path.join(location, data_folder, '*.png'))\n",
        "    length = len(imgs)\n",
        "\n",
        "    for i, img_path in enumerate(imgs):\n",
        "        image = cv2.imread(img_path)\n",
        "\n",
        "        if image.shape[0] > 20:\n",
        "            cv2.imwrite(\n",
        "                os.path.join(output, os.path.basename(img_path)),\n",
        "                word_normalization(image,\n",
        "                                   height=64,\n",
        "                                   border=False,\n",
        "                                   tilt=True,\n",
        "                                   hyst_norm=False))\n",
        "\n",
        "        print_progress_bar(i, len(imgs))\n",
        "\n",
        "    print(\"\\tNumber of normalized words:\",\n",
        "          len([n for n in os.listdir(output)]))"
      ],
      "metadata": {
        "_cell_guid": "a0513a8f-e402-4fa2-99a5-0338993c6774",
        "_uuid": "e30ccde4-c520-4989-bad1-6d3db870897e",
        "jupyter": {
          "outputs_hidden": false
        },
        "papermill": {
          "duration": 0.053421,
          "end_time": "2022-10-25T15:30:19.95936",
          "exception": false,
          "start_time": "2022-10-25T15:30:19.905939",
          "status": "completed"
        },
        "tags": [],
        "execution": {
          "iopub.status.busy": "2022-10-27T14:23:44.973314Z",
          "iopub.execute_input": "2022-10-27T14:23:44.973805Z",
          "iopub.status.idle": "2022-10-27T14:23:44.986566Z",
          "shell.execute_reply.started": "2022-10-27T14:23:44.973764Z",
          "shell.execute_reply": "2022-10-27T14:23:44.985226Z"
        },
        "trusted": true,
        "id": "KXAcZeaM0cPQ"
      },
      "execution_count": 21,
      "outputs": []
    },
    {
      "cell_type": "code",
      "source": [
        "def create_csv(datadir):\n",
        "\n",
        "    print('Creating CSV File...')\n",
        "\n",
        "    img_paths = {\n",
        "        'train': glob.glob(os.path.join(datadir, 'train', '*.png')),\n",
        "        'dev': glob.glob(os.path.join(datadir, 'dev', '*.png')),\n",
        "        'test': glob.glob(os.path.join(datadir, 'test', '*.png'))\n",
        "    }\n",
        "\n",
        "    for split in ['train', 'dev', 'test']:\n",
        "        print(\"For \" + split.capitalize() + \"ing \" + \"Dataset: \")\n",
        "        print('Converting word images to ' + split.capitalize() + '  List...')\n",
        "        labels = np.array([\n",
        "            os.path.basename(name).split('_')[0] for name in img_paths[split]\n",
        "        ])\n",
        "        length = len(img_paths[split])\n",
        "        images = np.empty(length, dtype=object)\n",
        "\n",
        "        for i, img in enumerate(img_paths[split]):\n",
        "            gaplines = 'None'\n",
        "            if os.path.isfile(img[:-3] + 'txt'):\n",
        "                with open(img[:-3] + 'txt', 'r') as fp:\n",
        "                    gaplines = str(simplejson.load(fp))[1:-1]\n",
        "            images[i] = (cv2.imread(img, 0), gaplines)\n",
        "            print_progress_bar(i, length)\n",
        "\n",
        "        with open(os.path.join(datadir, split + '.csv'), 'w') as csvfile:\n",
        "            print('Converting ' + split.capitalize() +\n",
        "                  ' List of images to CSV...')\n",
        "            fieldnames = ['label', 'shape', 'image', 'gaplines']\n",
        "            writer = csv.DictWriter(csvfile, fieldnames=fieldnames)\n",
        "            writer.writeheader()\n",
        "            for i in range(length):\n",
        "                writer.writerow({\n",
        "                    fieldnames[0]:\n",
        "                    labels[i],\n",
        "                    fieldnames[1]:\n",
        "                    str(images[i][0].shape)[1:-1],\n",
        "                    fieldnames[2]:\n",
        "                    str(list(images[i][0].flatten()))[1:-1],\n",
        "                    fieldnames[3]:\n",
        "                    images[i][1]\n",
        "                })\n",
        "                print_progress_bar(i, length)\n",
        "\n",
        "    print('\\tCSV files created!')"
      ],
      "metadata": {
        "_cell_guid": "23076863-7c5b-45ec-ae92-c2f1862bc1ba",
        "_uuid": "b2ad69ca-a3bb-4726-9277-a528700af457",
        "jupyter": {
          "outputs_hidden": false
        },
        "papermill": {
          "duration": 0.05698,
          "end_time": "2022-10-25T15:30:20.142636",
          "exception": false,
          "start_time": "2022-10-25T15:30:20.085656",
          "status": "completed"
        },
        "tags": [],
        "execution": {
          "iopub.status.busy": "2022-10-27T14:23:44.989003Z",
          "iopub.execute_input": "2022-10-27T14:23:44.989284Z",
          "iopub.status.idle": "2022-10-27T14:23:45.005706Z",
          "shell.execute_reply.started": "2022-10-27T14:23:44.989258Z",
          "shell.execute_reply": "2022-10-27T14:23:45.004523Z"
        },
        "trusted": true,
        "id": "coQEO7x90cPQ"
      },
      "execution_count": 22,
      "outputs": []
    },
    {
      "cell_type": "markdown",
      "source": [
        "**Functions for Loading & creating Datasets**"
      ],
      "metadata": {
        "_cell_guid": "7110cd2b-2148-442a-bfd5-c4a91a3acc1f",
        "_uuid": "e758389d-6384-4555-84f9-26f137f6aaa2",
        "execution": {
          "iopub.execute_input": "2022-10-20T12:55:52.859132Z",
          "iopub.status.busy": "2022-10-20T12:55:52.858425Z",
          "iopub.status.idle": "2022-10-20T12:55:52.867631Z",
          "shell.execute_reply": "2022-10-20T12:55:52.865975Z",
          "shell.execute_reply.started": "2022-10-20T12:55:52.859082Z"
        },
        "papermill": {
          "duration": 0.042226,
          "end_time": "2022-10-25T15:30:20.226256",
          "exception": false,
          "start_time": "2022-10-25T15:30:20.18403",
          "status": "completed"
        },
        "tags": [],
        "id": "p5CFhnbR0cPQ"
      }
    },
    {
      "cell_type": "code",
      "source": [
        "CHARS = [\n",
        "    '', 'A', 'B', 'C', 'D', 'E', 'F', 'G', 'H', 'I', 'J', 'K', 'L', 'M', 'N',\n",
        "    'O', 'P', 'Q', 'R', 'S', 'T', 'U', 'V', 'W', 'X', 'Y', 'Z', 'a', 'b', 'c',\n",
        "    'd', 'e', 'f', 'g', 'h', 'i', 'j', 'k', 'l', 'm', 'n', 'o', 'p', 'q', 'r',\n",
        "    's', 't', 'u', 'v', 'w', 'x', 'y', 'z', '0', '1', '2', '3', '4', '5', '6',\n",
        "    '7', '8', '9', '.', '-', '+', \"'\"\n",
        "]\n",
        "\n",
        "CHAR_SIZE = len(CHARS)\n",
        "idxs = [i for i in range(len(CHARS))]\n",
        "idx_2_chars = dict(zip(idxs, CHARS))\n",
        "'''\n",
        "    This gives\n",
        "    {0: '', 1: 'A', 2: 'B', 3: 'C', 4: 'D', 5: 'E', 6: 'F', 7: 'G', 8: 'H', 9: 'I', 10: 'J',\n",
        "    11: 'K', 12: 'L', 13: 'M', 14: 'N', 15: 'O', 16: 'P', 17: 'Q', 18: 'R', 19: 'S', 20: 'T',\n",
        "    21: 'U', 22: 'V', 23: 'W', 24: 'X', 25: 'Y', 26: 'Z', 27: 'a', 28: 'b', 29: 'c', 30: 'd',\n",
        "    31: 'e', 32: 'f', 33: 'g', 34: 'h', 35: 'i', 36: 'j', 37: 'k', 38: 'l', 39: 'm', 40: 'n',\n",
        "    41: 'o', 42: 'p', 43: 'q', 44: 'r', 45: 's', 46: 't', 47: 'u', 48: 'v', 49: 'w', 50: 'x',\n",
        "    51: 'y', 52: 'z', 53: '0', 54: '1', 55: '2', 56: '3', 57: '4', 58: '5', 59: '6', 60: '7',\n",
        "    61: '8', 62: '9', 63: '.', 64: '-', 65: '+', 66: \"'\"}\n",
        "'''\n",
        "chars_2_idx = dict(zip(CHARS, idxs))\n",
        "'''\n",
        "    This gives\n",
        "    {'': 0, 'A': 1, 'B': 2, 'C': 3, 'D': 4, 'E': 5, 'F': 6, 'G': 7, 'H': 8, 'I': 9, 'J': 10,\n",
        "    'K': 11, 'L': 12, 'M': 13, 'N': 14, 'O': 15, 'P': 16, 'Q': 17, 'R': 18, 'S': 19, 'T': 20,\n",
        "    'U': 21, 'V': 22, 'W': 23, 'X': 24, 'Y': 25, 'Z': 26, 'a': 27, 'b': 28, 'c': 29, 'd': 30,\n",
        "    'e': 31, 'f': 32, 'g': 33, 'h': 34, 'i': 35, 'j': 36, 'k': 37, 'l': 38, 'm': 39, 'n': 40,\n",
        "    'o': 41, 'p': 42, 'q': 43, 'r': 44, 's': 45, 't': 46, 'u': 47, 'v': 48, 'w': 49, 'x': 50,\n",
        "    'y': 51, 'z': 52, '0': 53, '1': 54, '2': 55, '3': 56, '4': 57, '5': 58, '6': 59, '7': 60,\n",
        "    '8': 61, '9': 62, '.': 63, '-': 64, '+': 65, \"'\": 66}\n",
        "\n",
        "'''\n",
        "\n",
        "def char2idx(c, sequence=False):\n",
        "    if sequence:\n",
        "        return chars_2_idx[c] + 1\n",
        "    return chars_2_idx[c]\n",
        "\n",
        "\n",
        "\n",
        "def idx2char(idx, sequence=False):\n",
        "    if sequence:\n",
        "        return idx_2_chars[idx - 1]\n",
        "    return idx_2_chars[idx]\n",
        "\n",
        "\n",
        "\n",
        "def load_words_data(dataloc='data/words/', is_csv=False, load_gaplines=False):\n",
        "\n",
        "    print(\"Loading words...\")\n",
        "    if type(dataloc) is not list:\n",
        "        dataloc = [dataloc]\n",
        "\n",
        "    # creating the csv file with columns {'shape', 'image','label'}\n",
        "    if is_csv:\n",
        "        csv.field_size_limit(sys.maxsize)\n",
        "        length = 0\n",
        "        for loc in dataloc:\n",
        "            with open(loc) as csvfile:\n",
        "                reader = csv.reader(csvfile)\n",
        "                length += max(sum(1 for row in csvfile) - 1, 0)\n",
        "\n",
        "        labels = np.empty(length, dtype=object)\n",
        "        images = np.empty(length, dtype=object)\n",
        "        i = 0\n",
        "        for loc in dataloc:\n",
        "            print(loc)\n",
        "            with open(loc) as csvfile:\n",
        "                reader = csv.DictReader(csvfile)\n",
        "                for row in reader:\n",
        "                    shape = np.fromstring(row['shape'], sep=',', dtype=int)\n",
        "                    img = np.fromstring(row['image'], sep=', ',\n",
        "                                        dtype=np.uint8).reshape(shape)\n",
        "                    labels[i] = row['label']\n",
        "                    images[i] = img\n",
        "\n",
        "\n",
        "                    print_progress_bar(i, length)\n",
        "                    i += 1\n",
        "    else:\n",
        "        img_list = []\n",
        "        tmp_labels = []\n",
        "        for loc in dataloc:\n",
        "            tmp_list = glob.glob(os.path.join(loc, '*.png'))\n",
        "            img_list += tmp_list\n",
        "            tmp_labels += [name[len(loc):].split(\"_\")[0] for name in tmp_list]\n",
        "\n",
        "        labels = np.array(tmp_labels)\n",
        "        images = np.empty(len(img_list), dtype=object)\n",
        "\n",
        "\n",
        "        for i, img in enumerate(img_list):\n",
        "            images[i] = cv2.imread(img, 0)\n",
        "            print_progress_bar(i, len(img_list))\n",
        "\n",
        "\n",
        "        if load_gaplines:\n",
        "            gaplines = np.empty(len(img_list), dtype=object)\n",
        "            for i, name in enumerate(img_list):\n",
        "                with open(name[:-3] + 'txt', 'r') as fp:\n",
        "                    gaplines[i] = np.array(simplejson.load(fp))\n",
        "\n",
        "    if load_gaplines:\n",
        "        assert len(labels) == len(images) == len(gaplines)\n",
        "    else:\n",
        "        assert len(labels) == len(images)\n",
        "    print(\"-> Number of words:\", len(labels))\n",
        "\n",
        "    if load_gaplines:\n",
        "        return (images, labels, gaplines)\n",
        "    return (images, labels)\n",
        "\n",
        "\n",
        "def _words2chars(images, labels, gaplines):\n",
        "\n",
        "    length = sum([len(l) for l in labels])\n",
        "\n",
        "    imgs = np.empty(length, dtype=object)\n",
        "    new_labels = []\n",
        "\n",
        "    height = images[0].shape[0]\n",
        "\n",
        "    idx = 0\n",
        "    for i, gaps in enumerate(gaplines):\n",
        "        for pos in range(len(gaps) - 1):\n",
        "            imgs[idx] = images[i][0:height, gaps[pos]:gaps[pos + 1]]\n",
        "            new_labels.append(char2idx(labels[i][pos]))\n",
        "            idx += 1\n",
        "\n",
        "    print(\"Loaded chars from words:\", length)\n",
        "    return imgs, new_labels\n",
        "\n",
        "def load_chars_data(charloc='data/charclas/',\n",
        "                    wordloc='data/words/',\n",
        "                    lang='cz'):\n",
        "\n",
        "\n",
        "    print(\"Loading chars...\")\n",
        "    images = np.zeros((1, 4096))\n",
        "    labels = []\n",
        "\n",
        "    if charloc != '':\n",
        "\n",
        "        dir_list = glob.glob(os.path.join(charloc, lang, \"*/\"))\n",
        "        dir_list.sort()\n",
        "\n",
        "        chars = CHARS[:53]\n",
        "\n",
        "        assert [d[-2] if d[-2] != '0' else '' for d in dir_list] == chars\n",
        "\n",
        "        for i in range(len(chars)):\n",
        "            img_list = glob.glob(os.path.join(dir_list[i], '*.jpg'))\n",
        "            imgs = np.array(\n",
        "                [letter_normalization(cv2.imread(img, 0)) for img in img_list])\n",
        "            images = np.concatenate([images, imgs.reshape(len(imgs), 4096)])\n",
        "            labels.extend([i] * len(imgs))\n",
        "\n",
        "    if wordloc != '':\n",
        "        imgs, words, gaplines = load_words_data(wordloc, load_gaplines=True)\n",
        "        if lang != 'cz':\n",
        "            words = np.array([unidecode.unidecode(w) for w in words])\n",
        "        imgs, chars = _words2chars(imgs, words, gaplines)\n",
        "\n",
        "        labels.extend(chars)\n",
        "        images2 = np.zeros((len(imgs), 4096))\n",
        "        for i in range(len(imgs)):\n",
        "            print_progress_bar(i, len(imgs))\n",
        "            images2[i] = letter_normalization(imgs[i]).reshape(1, 4096)\n",
        "\n",
        "        images = np.concatenate([images, images2])\n",
        "\n",
        "    images = images[1:]\n",
        "    labels = np.array(labels)\n",
        "\n",
        "    print(\"-> Number of chars:\", len(labels))\n",
        "    return (images, labels)\n",
        "\n",
        "\n",
        "def load_gap_data(loc='data/gapdet/large/',\n",
        "                  slider=(60, 120),\n",
        "                  seq=False,\n",
        "                  flatten=True):\n",
        "\n",
        "    print('Loading gap data...')\n",
        "    dir_list = glob.glob(os.path.join(loc, \"*/\"))\n",
        "    dir_list.sort()\n",
        "\n",
        "    if slider[1] > 120:\n",
        "        slider[1] = 120\n",
        "\n",
        "    cut_s = None if (120 - slider[1]) // 2 <= 0 else (120 - slider[1]) // 2\n",
        "    cut_e = None if (120 - slider[1]) // 2 <= 0 else -(120 - slider[1]) // 2\n",
        "\n",
        "    if seq:\n",
        "        images = np.empty(len(dir_list), dtype=object)\n",
        "        labels = np.empty(len(dir_list), dtype=object)\n",
        "\n",
        "        for i, loc in enumerate(dir_list):\n",
        "            img_list = glob.glob(os.path.join(loc, '*.jpg'))\n",
        "            if (len(img_list) != 0):\n",
        "                img_list = sorted(\n",
        "                    imglist,\n",
        "                    key=lambda x: int(x[len(loc):].split(\"_\")[1][:-4]))\n",
        "                images[i] = np.array([\n",
        "                    (cv2.imread(img, 0)[:, cut_s:cut_e].flatten()\n",
        "                     if flatten else cv2.imread(img, 0)[:, cut_s:cut_e])\n",
        "                    for img in img_list\n",
        "                ])\n",
        "                labels[i] = np.array(\n",
        "                    [int(name[len(loc):].split(\"_\")[0]) for name in img_list])\n",
        "\n",
        "    else:\n",
        "        images = np.zeros((1, slider[0] * slider[1]))\n",
        "        labels = []\n",
        "\n",
        "        for i in range(len(dir_list)):\n",
        "            img_list = glob.glob(os.path.join(dir_list[i], '*.jpg'))\n",
        "            if (len(img_list) != 0):\n",
        "                imgs = np.array(\n",
        "                    [cv2.imread(img, 0)[:, cut_s:cut_e] for img in img_list])\n",
        "                images = np.concatenate(\n",
        "                    [images,\n",
        "                     imgs.reshape(len(imgs), slider[0] * slider[1])])\n",
        "                labels.extend([int(img[len(dirlist[i])]) for img in img_list])\n",
        "\n",
        "        images = images[1:]\n",
        "        labels = np.array(labels)\n",
        "\n",
        "    if seq:\n",
        "        print(\"-> Number of words / gaps and letters:\", len(labels), '/',\n",
        "              sum([len(l) for l in labels]))\n",
        "    else:\n",
        "        print(\"-> Number of gaps and letters:\", len(labels))\n",
        "    return (images, labels)\n",
        "\n",
        "\n",
        "def corresponding_shuffle(a):\n",
        "\n",
        "\n",
        "\n",
        "    assert all([len(a[0]) == len(a[i]) for i in range(len(a))])\n",
        "    p = np.random.permutation(len(a[0]))\n",
        "    for i in range(len(a)):\n",
        "        a[i] = a[i][p]\n",
        "    return a\n",
        "\n",
        "\n",
        "\n",
        "def sequences_to_sparse(sequences):\n",
        "\n",
        "\n",
        "    indices = []\n",
        "    values = []\n",
        "\n",
        "    for n, seq in enumerate(sequences):\n",
        "        indices.extend(zip([n] * len(seq), range(len(seq))))\n",
        "        values.extend(seq)\n",
        "\n",
        "    indices = np.asarray(indices, dtype=np.int64)\n",
        "    values = np.asarray(values, dtype=np.int32)\n",
        "    shape = np.asarray(\n",
        "        [len(sequences), np.asarray(indices).max(0)[1] + 1], dtype=np.int64)\n",
        "\n",
        "    return indices, values, shape"
      ],
      "metadata": {
        "_cell_guid": "fb8623fd-b1b7-447d-bf01-e02636c28ea4",
        "_uuid": "f8411dbe-210c-4df8-ab73-5af17681fd52",
        "jupyter": {
          "outputs_hidden": false
        },
        "papermill": {
          "duration": 0.091581,
          "end_time": "2022-10-25T15:30:20.359994",
          "exception": false,
          "start_time": "2022-10-25T15:30:20.268413",
          "status": "completed"
        },
        "tags": [],
        "execution": {
          "iopub.status.busy": "2022-10-27T14:23:45.007904Z",
          "iopub.execute_input": "2022-10-27T14:23:45.008357Z",
          "iopub.status.idle": "2022-10-27T14:23:45.057828Z",
          "shell.execute_reply.started": "2022-10-27T14:23:45.008313Z",
          "shell.execute_reply": "2022-10-27T14:23:45.056586Z"
        },
        "trusted": true,
        "id": "1pUt8BvF0cPQ"
      },
      "execution_count": 24,
      "outputs": []
    },
    {
      "cell_type": "markdown",
      "source": [
        " **Classes for feeding data during training.**"
      ],
      "metadata": {
        "_cell_guid": "bb662701-cc05-4e0b-a63f-a12676835f53",
        "_uuid": "5a24691b-7368-4504-9d65-cd10173dedee",
        "execution": {
          "iopub.execute_input": "2022-10-20T12:55:52.859132Z",
          "iopub.status.busy": "2022-10-20T12:55:52.858425Z",
          "iopub.status.idle": "2022-10-20T12:55:52.867631Z",
          "shell.execute_reply": "2022-10-20T12:55:52.865975Z",
          "shell.execute_reply.started": "2022-10-20T12:55:52.859082Z"
        },
        "papermill": {
          "duration": 0.041203,
          "end_time": "2022-10-25T15:30:20.528402",
          "exception": false,
          "start_time": "2022-10-25T15:30:20.487199",
          "status": "completed"
        },
        "tags": [],
        "id": "kiljHHy_0cPR"
      }
    },
    {
      "cell_type": "code",
      "source": [
        "class BucketDataIterator():\n",
        "    def __init__(self,\n",
        "                 images,\n",
        "                 targets,\n",
        "                 num_buckets=5,\n",
        "                 slider=(60, 30),\n",
        "                 augmentation=None,\n",
        "                 dropout=0.0,\n",
        "                 train=True):\n",
        "\n",
        "        self.train = train\n",
        "        self.slider = slider\n",
        "        self.augmentation = augmentation\n",
        "        self.dropout = dropout\n",
        "\n",
        "        for i in range(len(images)):\n",
        "            images[i] = img_extend(\n",
        "                images[i],\n",
        "                (self.slider[0], max(images[i].shape[1], self.slider[1])))\n",
        "        in_length = [image.shape[1] for image in images]\n",
        "\n",
        "        self.dataFrame = pd.DataFrame({\n",
        "            'in_length': in_length,\n",
        "            'images': images,\n",
        "            'targets': targets\n",
        "        }).sort_values('in_length').reset_index(drop=True)\n",
        "\n",
        "        bsize = int(len(images) / num_buckets)\n",
        "        self.num_buckets = num_buckets\n",
        "        self.buckets = []\n",
        "\n",
        "        for bucket in range(num_buckets - 1):\n",
        "            self.buckets.append(\n",
        "                self.dataFrame.iloc[bucket * bsize:(bucket + 1) * bsize])\n",
        "        self.buckets.append(self.dataFrame.iloc[(num_buckets - 1) * bsize:])\n",
        "\n",
        "        self.buckets_size = [len(bucket) for bucket in self.buckets]\n",
        "        self.cursor = np.array([0] * num_buckets)\n",
        "        self.bucket_order = np.random.permutation(num_buckets)\n",
        "        self.bucket_cursor = 0\n",
        "        self.shuffle()\n",
        "        print(\"Iterator created.\")\n",
        "\n",
        "    def shuffle(self, idx=None):\n",
        "        for i in [idx] if idx is not None else range(self.num_buckets):\n",
        "            self.buckets[i] = self.buckets[i].sample(frac=1).reset_index(\n",
        "                drop=True)\n",
        "            self.cursor[i] = 0\n",
        "\n",
        "\n",
        "    def next_batch(self, batch_size):\n",
        "\n",
        "        i_bucket = self.bucket_order[self.bucket_cursor]\n",
        "\n",
        "        self.bucket_cursor = (self.bucket_cursor + 1) % self.num_buckets\n",
        "        if self.bucket_cursor == 0:\n",
        "            self.bucket_order = np.random.permutation(self.num_buckets)\n",
        "\n",
        "        if self.cursor[i_bucket] + batch_size > self.buckets_size[i_bucket]:\n",
        "            self.shuffle(i_bucket)\n",
        "\n",
        "        if (batch_size > self.buckets_size[i_bucket]):\n",
        "            batch_size = self.buckets_size[i_bucket]\n",
        "\n",
        "        res = self.buckets[i_bucket].iloc[self.cursor[i_bucket]:self.\n",
        "                                          cursor[i_bucket] + batch_size]\n",
        "        self.cursor[i_bucket] += batch_size\n",
        "\n",
        "        input_max = max(res['in_length'])\n",
        "\n",
        "        input_imgs = np.zeros((batch_size, self.slider[0], input_max, 1),\n",
        "                              dtype=np.uint8)\n",
        "        for i, img in enumerate(res['images']):\n",
        "            input_imgs[i][:, :res['in_length'].values[i], 0] = img\n",
        "\n",
        "        if self.train:\n",
        "\n",
        "            input_imgs = self.augmentation.augment_images(input_imgs)\n",
        "        input_imgs = input_imgs.astype(np.float32)\n",
        "\n",
        "        targets = sequences_to_sparse(res['targets'].values)\n",
        "        return input_imgs, targets, res['in_length'].values"
      ],
      "metadata": {
        "_cell_guid": "53105db7-400a-418b-91cf-f6eb915c5bcb",
        "_uuid": "2378c69b-61b6-4a23-acb5-19fdb176b557",
        "jupyter": {
          "outputs_hidden": false
        },
        "papermill": {
          "duration": 0.061857,
          "end_time": "2022-10-25T15:30:20.632954",
          "exception": false,
          "start_time": "2022-10-25T15:30:20.571097",
          "status": "completed"
        },
        "tags": [],
        "execution": {
          "iopub.status.busy": "2022-10-27T14:23:45.061574Z",
          "iopub.execute_input": "2022-10-27T14:23:45.062008Z",
          "iopub.status.idle": "2022-10-27T14:23:45.080612Z",
          "shell.execute_reply.started": "2022-10-27T14:23:45.06198Z",
          "shell.execute_reply": "2022-10-27T14:23:45.079421Z"
        },
        "trusted": true,
        "id": "PqmU8ND00cPR"
      },
      "execution_count": 25,
      "outputs": []
    },
    {
      "cell_type": "markdown",
      "source": [
        "**Classes for controling machine learning processes.**"
      ],
      "metadata": {
        "_cell_guid": "17208f13-1c41-464b-9542-987ff9e386c1",
        "_uuid": "1d318772-f127-4c4b-98a5-a1eac045044d",
        "execution": {
          "iopub.execute_input": "2022-10-20T12:55:52.859132Z",
          "iopub.status.busy": "2022-10-20T12:55:52.858425Z",
          "iopub.status.idle": "2022-10-20T12:55:52.867631Z",
          "shell.execute_reply": "2022-10-20T12:55:52.865975Z",
          "shell.execute_reply.started": "2022-10-20T12:55:52.859082Z"
        },
        "papermill": {
          "duration": 0.040186,
          "end_time": "2022-10-25T15:30:20.71394",
          "exception": false,
          "start_time": "2022-10-25T15:30:20.673754",
          "status": "completed"
        },
        "tags": [],
        "id": "RDB_XC_e0cPR"
      }
    },
    {
      "cell_type": "code",
      "source": [
        "class TrainingPlot:\n",
        "\n",
        "    train_loss = []\n",
        "    train_acc = []\n",
        "    valid_acc = []\n",
        "    test_iter = 0\n",
        "    loss_iter = 0\n",
        "    interval = 0\n",
        "    ax1 = None\n",
        "    ax2 = None\n",
        "    fig = None\n",
        "\n",
        "    def __init__(self, steps, test_itr, loss_itr):\n",
        "        self.test_iter = test_itr\n",
        "        self.loss_iter = loss_itr\n",
        "        self.interval = steps\n",
        "\n",
        "        self.fig, self.ax1 = plt.subplots()\n",
        "        self.ax2 = self.ax1.twinx()\n",
        "        self.ax1.set_autoscaley_on(True)\n",
        "        plt.ion()\n",
        "\n",
        "        self._update_plot()\n",
        "\n",
        "        self.ax1.set_xlabel('Iteration')\n",
        "        self.ax1.set_ylabel('Train Loss')\n",
        "        self.ax2.set_ylabel('Valid. Accuracy')\n",
        "\n",
        "        self.ax1.set_ylim([0, 10])\n",
        "\n",
        "    def _update_plot(self):\n",
        "        self.fig.canvas.draw()\n",
        "\n",
        "    def update_loss(self, loss_train, index):\n",
        "        self.train_loss.append(loss_train)\n",
        "        if len(self.train_loss) == 1:\n",
        "            self.ax1.set_ylim([0, min(10, math.ceil(loss_train))])\n",
        "        self.ax1.plot(self.loss_iter * np.arange(len(self.train_loss)),\n",
        "                      self.train_loss,\n",
        "                      'b',\n",
        "                      linewidth=1.0)\n",
        "\n",
        "        self._update_plot()\n",
        "\n",
        "    def update_acc(self, acc_val, acc_train, index):\n",
        "        self.valid_acc.append(acc_val)\n",
        "        self.train_acc.append(acc_train)\n",
        "\n",
        "        self.ax2.plot(self.test_iter * np.arange(len(self.valid_acc)),\n",
        "                      self.valid_acc,\n",
        "                      'r',\n",
        "                      linewidth=1.0)\n",
        "        self.ax2.plot(self.test_iter * np.arange(len(self.train_acc)),\n",
        "                      self.train_acc,\n",
        "                      'g',\n",
        "                      linewidth=1.0)\n",
        "\n",
        "        self.ax2.set_title('Valid. Accuracy: {:.4f}'.format(\n",
        "            self.valid_acc[-1]))\n",
        "\n",
        "        self.updatePlot()\n",
        "\n",
        "class DataSet:\n",
        "    images = None\n",
        "    labels = None\n",
        "    length = 0\n",
        "    index = 0\n",
        "\n",
        "    def __init__(self, img, lbl):\n",
        "        self.images = img\n",
        "        self.labels = lbl\n",
        "        self.length = len(img)\n",
        "        self.index = 0\n",
        "\n",
        "\n",
        "    def next_batch(self, batch_size):\n",
        "        start = self.index\n",
        "        self.index += batch_size\n",
        "\n",
        "        if self.index > self.length:\n",
        "\n",
        "            perm = np.arange(self.length)\n",
        "            np.random.shuffle(perm)\n",
        "            self.images = self.images[perm]\n",
        "            self.labels = self.labels[perm]\n",
        "            start = 0\n",
        "            self.index = batch_size\n",
        "\n",
        "        end = self.index\n",
        "        return self.images[start:end], self.labels[start:end]\n",
        "\n",
        "class DataIterator(BucketDataIterator):\n",
        "    def next_feed(self, batch_size):\n",
        "        (inputs_, targets_, inputs_length_) = self.next_batch(batch_size)\n",
        "        return {\n",
        "            inputs: inputs_,\n",
        "            inputs_length: inputs_length_,\n",
        "            targets: targets_,\n",
        "            keep_prob: (1.0 - self.dropout) if self.train else 1.0\n",
        "        }"
      ],
      "metadata": {
        "_cell_guid": "fb04771e-569a-405d-b5d0-3daa69bec081",
        "_uuid": "4a601bc1-3235-4ce7-a6b0-71d5380773a3",
        "jupyter": {
          "outputs_hidden": false
        },
        "papermill": {
          "duration": 0.069259,
          "end_time": "2022-10-25T15:30:20.825501",
          "exception": false,
          "start_time": "2022-10-25T15:30:20.756242",
          "status": "completed"
        },
        "tags": [],
        "execution": {
          "iopub.status.busy": "2022-10-27T14:23:45.082462Z",
          "iopub.execute_input": "2022-10-27T14:23:45.083119Z",
          "iopub.status.idle": "2022-10-27T14:23:45.102571Z",
          "shell.execute_reply.started": "2022-10-27T14:23:45.083084Z",
          "shell.execute_reply": "2022-10-27T14:23:45.101634Z"
        },
        "trusted": true,
        "id": "vbZZVTC80cPR"
      },
      "execution_count": 26,
      "outputs": []
    },
    {
      "cell_type": "code",
      "source": [
        "class Model():\n",
        "    def __init__(self, loc, operation='activation', input_name='x'):\n",
        "\n",
        "        self.input = input_name + \":0\"\n",
        "        self.graph = tf.compat.v1.Graph()\n",
        "        self.sess = tf.compat.v1.Session(graph=self.graph)\n",
        "        with self.graph.as_default():\n",
        "            saver = tf.compat.v1.train.import_meta_graph(loc + '.meta',\n",
        "                                               clear_devices=True)\n",
        "            saver.restore(self.sess, loc)\n",
        "            self.op = self.graph.get_operation_by_name(operation).outputs[0]\n",
        "\n",
        "    def run(self, data):\n",
        "        return self.sess.run(self.op, feed_dict={self.input: data})\n",
        "\n",
        "    def eval_feed(self, feed):\n",
        "        return self.sess.run(self.op, feed_dict=feed)\n",
        "\n",
        "    def run_op(self, op, feed, output=True):\n",
        "        if output:\n",
        "            return self.sess.run(\n",
        "                self.graph.get_operation_by_name(op).outputs[0],\n",
        "                feed_dict=feed)\n",
        "        else:\n",
        "            self.sess.run(self.graph.get_operation_by_name(op), feed_dict=feed)\n",
        "\n",
        "def _create_single_cell(cell_fn,\n",
        "                        num_units,\n",
        "                        is_residual=False,\n",
        "                        is_dropout=False,\n",
        "                        keep_prob=None):\n",
        "    cell = cell_fn(num_units)\n",
        "    if is_dropout:\n",
        "        cell = DropoutWrapper(cell, input_keep_prob=keep_prob)\n",
        "    if is_residual:\n",
        "        cell = ResidualWrapper(cell)\n",
        "    return cell\n",
        "\n",
        "def create_cell(num_units,\n",
        "                num_layers,\n",
        "                num_residual_layers,\n",
        "                is_dropout=False,\n",
        "                keep_prob=None,\n",
        "                cell_fn=LSTMCell):\n",
        "    cell_list = []\n",
        "\n",
        "    for i in range(num_layers):\n",
        "        cell_list.append(\n",
        "            _create_single_cell(\n",
        "                cell_fn=cell_fn,\n",
        "                num_units=num_units,\n",
        "                is_residual=(i >= num_layers - num_residual_layers),\n",
        "                is_dropout=is_dropout,\n",
        "                keep_prob=keep_prob))\n",
        "\n",
        "    if num_layers == 1:\n",
        "        return cell_list[0]\n",
        "    return MultiRNNCell(cell_list)"
      ],
      "metadata": {
        "_cell_guid": "e45e4ed9-92b0-48d5-a0fc-d2eee85ff9d0",
        "_uuid": "962f6409-abe1-4c5c-98dc-823997b0799b",
        "jupyter": {
          "outputs_hidden": false
        },
        "papermill": {
          "duration": 0.061739,
          "end_time": "2022-10-25T15:30:21.026414",
          "exception": false,
          "start_time": "2022-10-25T15:30:20.964675",
          "status": "completed"
        },
        "tags": [],
        "execution": {
          "iopub.status.busy": "2022-10-27T14:25:04.860026Z",
          "iopub.execute_input": "2022-10-27T14:25:04.866706Z",
          "iopub.status.idle": "2022-10-27T14:25:04.907457Z",
          "shell.execute_reply.started": "2022-10-27T14:25:04.866655Z",
          "shell.execute_reply": "2022-10-27T14:25:04.906197Z"
        },
        "trusted": true,
        "id": "_neZEjii0cPS"
      },
      "execution_count": 27,
      "outputs": []
    },
    {
      "cell_type": "code",
      "source": [
        "def ctc_recognise(img):\n",
        "\n",
        "    img = word_normalization(\n",
        "        img,\n",
        "        64,\n",
        "        border=False,\n",
        "        tilt=False,\n",
        "        hyst_norm=False)\n",
        "    length = img.shape[1]\n",
        "    input_imgs = np.zeros(\n",
        "            (1, 64, length, 1), dtype=np.uint8)\n",
        "    input_imgs[0][:, :length, 0] = img\n",
        "\n",
        "    pred = CTC_MODEL.eval_feed({\n",
        "        'inputs:0': input_imgs,\n",
        "        'inputs_length:0': [length],\n",
        "        'keep_prob:0': 1})[0]\n",
        "\n",
        "    word = ''\n",
        "    for i in pred:\n",
        "        word += idx2char(i)\n",
        "    return word\n"
      ],
      "metadata": {
        "execution": {
          "iopub.status.busy": "2022-10-27T14:23:45.123404Z",
          "iopub.execute_input": "2022-10-27T14:23:45.12414Z",
          "iopub.status.idle": "2022-10-27T14:23:45.135755Z",
          "shell.execute_reply.started": "2022-10-27T14:23:45.124111Z",
          "shell.execute_reply": "2022-10-27T14:23:45.134638Z"
        },
        "trusted": true,
        "id": "RqUSZXyQ0cPS"
      },
      "execution_count": 30,
      "outputs": []
    },
    {
      "cell_type": "markdown",
      "source": [
        "### **Extracting the Data Using the Extraction Functions**"
      ],
      "metadata": {
        "_cell_guid": "355f58cd-393e-4e42-9979-3db5f886ce01",
        "_uuid": "f6c4d36c-af71-4f74-9185-a6cfa7c93f2f",
        "papermill": {
          "duration": 0.040024,
          "end_time": "2022-10-25T15:30:21.190801",
          "exception": false,
          "start_time": "2022-10-25T15:30:21.150777",
          "status": "completed"
        },
        "tags": [],
        "id": "QBs4l8sd0cPS"
      }
    },
    {
      "cell_type": "code",
      "source": [
        "data_folder = 'datasets/raw/'\n",
        "\n",
        "output_folder = 'words_final'\n",
        "\n",
        "\n",
        "datasets = {\n",
        "    'breta': [extract_breta,\n",
        "              os.path.join(data_folder, 'breta'), 1],\n",
        "    'iam': [extract_iam, os.path.join(data_folder, 'iam'), 2],\n",
        "    'cvl': [extract_cvl, os.path.join(data_folder, 'cvl'), 3],\n",
        "    'orand': [extract_orand,\n",
        "              os.path.join(data_folder, 'orand'), 4]\n",
        "}"
      ],
      "metadata": {
        "_cell_guid": "51e90029-7c1b-4f33-9943-6299be42f66d",
        "_uuid": "a32111d9-14ee-4792-aefe-12e526c59e40",
        "execution": {
          "iopub.execute_input": "2022-10-25T15:30:21.273064Z",
          "iopub.status.busy": "2022-10-25T15:30:21.272713Z",
          "iopub.status.idle": "2022-10-25T15:30:21.278951Z",
          "shell.execute_reply": "2022-10-25T15:30:21.27794Z"
        },
        "jupyter": {
          "outputs_hidden": false
        },
        "papermill": {
          "duration": 0.049247,
          "end_time": "2022-10-25T15:30:21.280842",
          "exception": false,
          "start_time": "2022-10-25T15:30:21.231595",
          "status": "completed"
        },
        "tags": [],
        "id": "RDgHSFDL0cPS"
      },
      "execution_count": 28,
      "outputs": []
    },
    {
      "cell_type": "code",
      "source": [
        "\n",
        "\n",
        "for ds in list(datasets.keys()):\n",
        "    print(\"Processing -\", ds)\n",
        "    entry = datasets[ds]\n",
        "    try:\n",
        "        entry[0](entry[1], output_folder, entry[2])\n",
        "    except FileNotFoundError:\n",
        "        print(\"    Error - File not found, skipping dataset\", ds)"
      ],
      "metadata": {
        "_cell_guid": "b50397a9-11c9-470f-9282-40baa314516c",
        "_uuid": "4c121fe9-f420-4def-bbd1-d043bd504431",
        "execution": {
          "iopub.execute_input": "2022-10-25T15:30:21.362067Z",
          "iopub.status.busy": "2022-10-25T15:30:21.361124Z",
          "iopub.status.idle": "2022-10-25T15:35:56.833696Z",
          "shell.execute_reply": "2022-10-25T15:35:56.832471Z"
        },
        "jupyter": {
          "outputs_hidden": false
        },
        "papermill": {
          "duration": 335.519198,
          "end_time": "2022-10-25T15:35:56.839654",
          "exception": false,
          "start_time": "2022-10-25T15:30:21.320456",
          "status": "completed"
        },
        "tags": [],
        "id": "02rglIj10cPT",
        "outputId": "484746e8-a705-4171-f0c7-04e58a476386",
        "colab": {
          "base_uri": "https://localhost:8080/"
        }
      },
      "execution_count": 29,
      "outputs": [
        {
          "output_type": "stream",
          "name": "stdout",
          "text": [
            "Processing - breta\n",
            " |████████████████████████████████████████| 100.0% \n",
            " |████████████████████████████████████████| 100.0% \n",
            " |████████████████████████████████████████| 100.0% \n",
            " |████████████████████████████████████████| 101.0% \n",
            " |████████████████████████████████████████| 100.0% \n",
            " |████████████████████████████████████████| 101.0% \n",
            "\tNumber of words: 6100\n",
            "Processing - iam\n",
            "    Error - File not found, skipping dataset iam\n",
            "Processing - cvl\n",
            " |████████████████████████████████████████| 100.0% \n",
            " |████████████████████████████████████████| 100.0% \n",
            "\tNumber of words: 99904\n",
            "Processing - orand\n",
            " |████████████████████████████████████████| 100.0% \n",
            " |████████████████████████████████████████| 100.0% \n",
            "\tNumber of words: 11719\n"
          ]
        }
      ]
    },
    {
      "cell_type": "code",
      "source": [
        "data_folder = 'words_final'\n",
        "location = 'datasets/'\n",
        "output_folder = os.path.join(location, 'processed')\n",
        "\n",
        "if not os.path.exists(output_folder):\n",
        "    os.makedirs(output_folder)\n",
        "\n",
        "for ds in list(datasets.keys()):\n",
        "    print(\"Processing -\", ds)\n",
        "    entry = datasets[ds]\n",
        "    words_norm(entry[1], os.path.join(output_folder, ds))"
      ],
      "metadata": {
        "_cell_guid": "bef924e3-d23a-4296-b5f8-b2d886feb8b4",
        "_uuid": "d7555a3c-cf94-4c64-9b9f-60044b793c6d",
        "execution": {
          "iopub.execute_input": "2022-10-25T15:35:57.191339Z",
          "iopub.status.busy": "2022-10-25T15:35:57.190962Z",
          "iopub.status.idle": "2022-10-25T15:59:16.688699Z",
          "shell.execute_reply": "2022-10-25T15:59:16.6866Z"
        },
        "jupyter": {
          "outputs_hidden": false
        },
        "papermill": {
          "duration": 1399.582402,
          "end_time": "2022-10-25T15:59:16.691876",
          "exception": false,
          "start_time": "2022-10-25T15:35:57.109474",
          "status": "completed"
        },
        "tags": [],
        "id": "gx2Mg0pg0cPT",
        "outputId": "b2ddae3b-7490-4b07-f1ee-0c5d6b8c921b",
        "colab": {
          "base_uri": "https://localhost:8080/"
        }
      },
      "execution_count": 31,
      "outputs": [
        {
          "output_type": "stream",
          "name": "stdout",
          "text": [
            "Processing - breta\n",
            " |████████████████████████████████████████| 100.0% \n",
            "\tNumber of normalized words: 6100\n",
            "Processing - iam\n",
            "\tNumber of normalized words: 0\n",
            "Processing - cvl\n",
            " |████████████████████████████████████████| 101.0% \n",
            "\tNumber of normalized words: 99659\n",
            "Processing - orand\n",
            " |████████████████████████████████████████| 100.0% \n",
            "\tNumber of normalized words: 11719\n"
          ]
        }
      ]
    },
    {
      "cell_type": "code",
      "source": [
        "location = 'datasets/'\n",
        "\n",
        "random.seed(17)\n",
        "\n",
        "output_folder = os.path.join(location, 'sets')\n",
        "\n",
        "test_set = 0.1\n",
        "validation_set = 0.1\n",
        "\n",
        "if not os.path.exists(output_folder):\n",
        "    os.makedirs(output_folder)\n",
        "\n",
        "imgs = []\n",
        "\n",
        "for ds in list(datasets.keys()):\n",
        "    for loc, _, _ in os.walk(datasets[ds][1].replace(\"raw\", \"processed\")):\n",
        "        imgs += glob.glob(os.path.join(loc, '*.png'))\n",
        "\n",
        "imgs.sort()\n",
        "random.shuffle(imgs)\n",
        "\n",
        "length = len(imgs)\n",
        "sp1 = int((1 - test_set - validation_set) * length)\n",
        "sp2 = int((1 - test_set) * length)\n",
        "\n",
        "img_paths = {'train': imgs[:sp1], 'dev': imgs[sp1:sp2], 'test': imgs[sp2:]}\n",
        "\n",
        "i = 0\n",
        "\n",
        "for split in ['train', 'dev', 'test']:\n",
        "    split_output = os.path.join(output_folder, split)\n",
        "    if not os.path.exists(split_output):\n",
        "        os.mkdir(split_output)\n",
        "    for im_path in img_paths[split]:\n",
        "        copyfile(im_path, os.path.join(split_output,\n",
        "                                       os.path.basename(im_path)))\n",
        "        if '_gaplines' in im_path:\n",
        "            im_path = im_path[:-3] + 'txt'\n",
        "            copyfile(im_path,\n",
        "                     os.path.join(split_output, os.path.basename(im_path)))\n",
        "\n",
        "\n",
        "        print_progress_bar(i, length)\n",
        "        i += 1\n",
        "\n",
        "\n",
        "    print(\"\\n\\tNumber of %s words: %s\" %\n",
        "          (split, len(os.listdir(split_output))))\n",
        "\n",
        "!rm -r 'datasets/raw' 'datasets/processed'\n",
        "\n",
        "create_csv(output_folder)"
      ],
      "metadata": {
        "_cell_guid": "e1b83a83-706e-41b8-b004-48d26c6e853e",
        "_uuid": "dc573aea-c305-466d-acac-c540b6448631",
        "execution": {
          "iopub.execute_input": "2022-10-25T15:59:17.027424Z",
          "iopub.status.busy": "2022-10-25T15:59:17.026491Z",
          "iopub.status.idle": "2022-10-25T16:15:12.408449Z",
          "shell.execute_reply": "2022-10-25T16:15:12.406908Z"
        },
        "jupyter": {
          "outputs_hidden": false
        },
        "papermill": {
          "duration": 955.468781,
          "end_time": "2022-10-25T16:15:12.410749",
          "exception": false,
          "start_time": "2022-10-25T15:59:16.941968",
          "status": "completed"
        },
        "tags": [],
        "id": "KwSMQzI50cPT",
        "colab": {
          "base_uri": "https://localhost:8080/"
        },
        "outputId": "e16b3165-af54-4607-de02-874d101f07a5"
      },
      "execution_count": 32,
      "outputs": [
        {
          "metadata": {
            "tags": null
          },
          "name": "stdout",
          "output_type": "stream",
          "text": [
            " |████████████████████████████████--------| 80.0% \n",
            "\tNumber of train words: 93982\n",
            " |████████████████████████████████████----| 90.0% \n",
            "\tNumber of dev words: 11748\n",
            " |████████████████████████████████████████| 100.0% \n",
            "\n",
            "\tNumber of test words: 11748\n",
            "Creating CSV File...\n",
            "For Training Dataset: \n",
            "Converting word images to Train  List...\n",
            " |████████████████████████████████████████| 100.0% \n",
            "Converting Train List of images to CSV...\n",
            " |████████████████████████████████████████| 100.0% \n",
            "For Deving Dataset: \n",
            "Converting word images to Dev  List...\n",
            " |████████████████████████████████████████| 100.0% \n",
            "Converting Dev List of images to CSV...\n",
            " |████████████████████████████████████████| 100.0% \n",
            "For Testing Dataset: \n",
            "Converting word images to Test  List...\n",
            " |████████████████████████████████████████| 100.0% \n",
            "Converting Test List of images to CSV...\n",
            " |████████████████████████████████████████| 100.0% \n",
            "\tCSV files created!\n"
          ]
        }
      ]
    },
    {
      "cell_type": "markdown",
      "source": [
        "#### Setting Up the Model Parameters"
      ],
      "metadata": {
        "_cell_guid": "58f47e44-ef03-45e7-8115-e54e401308db",
        "_uuid": "13eb3183-8f5f-409e-9aac-f1ccd45605c3",
        "papermill": {
          "duration": 0.165773,
          "end_time": "2022-10-25T16:15:13.324292",
          "exception": false,
          "start_time": "2022-10-25T16:15:13.158519",
          "status": "completed"
        },
        "tags": [],
        "id": "j1c04I-u0cPT"
      }
    },
    {
      "cell_type": "code",
      "source": [
        "%matplotlib inline\n",
        "plt.rcParams['figure.figsize'] = (9.0, 5.0)\n",
        "slider_size = (64, 64)\n",
        "layers = 4\n",
        "residual_layers = 0\n",
        "units = 512\n",
        "\n",
        "num_buckets = 10\n",
        "N_INPUT = slider_size[0] * slider_size[1]\n",
        "vocab_size = CHAR_SIZE + 2\n",
        "\n",
        "learning_rate = 1e-4\n",
        "dropout = 0.4\n",
        "\n",
        "TRAIN_STEPS = 20000\n",
        "TEST_ITER = 150\n",
        "LOSS_ITER = 150\n",
        "SAVE_ITER = 500\n",
        "EPOCH = 500\n",
        "BATCH_SIZE = 64\n",
        "\n",
        "model_name = 'Classifier1'\n",
        "!mkdir 'datasets/models'\n",
        "\n",
        "save_loc = 'datasets/models/word-clas/CTC/'\n",
        "!mkdir 'datasets/logs'\n",
        "\n",
        "summaries_dir = 'datasets/logs/word-clas/CTC/' + model_name\n",
        "\n",
        "if not os.path.exists(save_loc):\n",
        "    os.makedirs(save_loc)\n",
        "save_loc += model_name"
      ],
      "metadata": {
        "_cell_guid": "da49080d-7fea-48b6-ab69-f2e3e73bee62",
        "_uuid": "5f5cb8b2-a862-4990-9191-6d8d6aba6981",
        "execution": {
          "iopub.execute_input": "2022-10-25T16:15:13.659267Z",
          "iopub.status.busy": "2022-10-25T16:15:13.658802Z",
          "iopub.status.idle": "2022-10-25T16:15:16.057027Z",
          "shell.execute_reply": "2022-10-25T16:15:16.055718Z"
        },
        "jupyter": {
          "outputs_hidden": false
        },
        "papermill": {
          "duration": 2.569123,
          "end_time": "2022-10-25T16:15:16.059574",
          "exception": false,
          "start_time": "2022-10-25T16:15:13.490451",
          "status": "completed"
        },
        "tags": [],
        "id": "HIWbe5Yv0cPT"
      },
      "execution_count": 33,
      "outputs": []
    },
    {
      "cell_type": "markdown",
      "source": [
        "#### Loading the Image Paths & Labels"
      ],
      "metadata": {
        "_cell_guid": "e7fc7eb5-e310-4e28-949f-652c22d476a9",
        "_uuid": "d2b16ae8-a554-43be-917f-3f48db3e914a",
        "papermill": {
          "duration": 0.108412,
          "end_time": "2022-10-25T16:15:16.276297",
          "exception": false,
          "start_time": "2022-10-25T16:15:16.167885",
          "status": "completed"
        },
        "tags": [],
        "id": "dvdrrhiP0cPU"
      }
    },
    {
      "cell_type": "code",
      "source": [
        "train_images, train_labels = load_words_data('datasets/sets/train.csv',\n",
        "                                             is_csv=True)\n",
        "dev_images, dev_labels = load_words_data('datasets/sets/dev.csv', is_csv=True)"
      ],
      "metadata": {
        "_cell_guid": "352ee4e0-647a-433f-870e-28a5891ed70d",
        "_uuid": "ce91d0c9-a0be-4898-a2cd-6addff0f453a",
        "execution": {
          "iopub.execute_input": "2022-10-25T16:15:16.494824Z",
          "iopub.status.busy": "2022-10-25T16:15:16.494404Z",
          "iopub.status.idle": "2022-10-25T16:17:40.595639Z",
          "shell.execute_reply": "2022-10-25T16:17:40.593088Z"
        },
        "jupyter": {
          "outputs_hidden": false
        },
        "papermill": {
          "duration": 144.213565,
          "end_time": "2022-10-25T16:17:40.59864",
          "exception": false,
          "start_time": "2022-10-25T16:15:16.385075",
          "status": "completed"
        },
        "tags": [],
        "id": "QLRFP_b60cPU",
        "colab": {
          "base_uri": "https://localhost:8080/"
        },
        "outputId": "b6b886cd-1efa-4985-e439-3f4bea662929"
      },
      "execution_count": 35,
      "outputs": [
        {
          "output_type": "stream",
          "name": "stdout",
          "text": [
            "Loading words...\n",
            "datasets/sets/train.csv\n",
            " |████████████████████████████████████████| 100.0% \n",
            "-> Number of words: 93982\n",
            "Loading words...\n",
            "datasets/sets/dev.csv\n",
            " |████████████████████████████████████████| 100.0% \n",
            "-> Number of words: 11748\n"
          ]
        }
      ]
    },
    {
      "cell_type": "markdown",
      "source": [
        "#### Resizing & Converting Each Character into Coressponding Index"
      ],
      "metadata": {
        "_cell_guid": "4c08900e-5a72-4ebd-a0ed-25b1ab50716c",
        "_uuid": "acb35dd9-8d55-4d19-b30b-26b1a34ae860",
        "papermill": {
          "duration": 0.126535,
          "end_time": "2022-10-25T16:17:40.852776",
          "exception": false,
          "start_time": "2022-10-25T16:17:40.726241",
          "status": "completed"
        },
        "tags": [],
        "id": "pH3Ko_Pg0cPU"
      }
    },
    {
      "cell_type": "code",
      "source": [
        "data = {\n",
        "    'train':\n",
        "    (train_images, train_labels, np.empty(len(train_labels), dtype=object)),\n",
        "    'dev': (dev_images, dev_labels, np.empty(len(dev_labels), dtype=object))\n",
        "}\n",
        "\n",
        "for d in ['train', 'dev']:\n",
        "    for i in range(len(data[d][0])):\n",
        "        data[d][0][i] = resize(data[d][0][i], slider_size[1], True)\n",
        "        data[d][2][i] = [char2idx(c) for c in data[d][1][i]]\n",
        "\n",
        "print(\"Training images:\", len(train_images))\n",
        "print(\"Testing images:\", len(dev_images))"
      ],
      "metadata": {
        "_cell_guid": "e3aea3a5-9311-4984-849e-e078b17ad32b",
        "_uuid": "e4813376-1624-4d61-941e-eab6439427ad",
        "execution": {
          "iopub.execute_input": "2022-10-25T16:17:41.245896Z",
          "iopub.status.busy": "2022-10-25T16:17:41.244299Z",
          "iopub.status.idle": "2022-10-25T16:17:43.157898Z",
          "shell.execute_reply": "2022-10-25T16:17:43.156806Z"
        },
        "jupyter": {
          "outputs_hidden": false
        },
        "papermill": {
          "duration": 2.092771,
          "end_time": "2022-10-25T16:17:43.160757",
          "exception": false,
          "start_time": "2022-10-25T16:17:41.067986",
          "status": "completed"
        },
        "tags": [],
        "id": "horVNpxw0cPU",
        "colab": {
          "base_uri": "https://localhost:8080/"
        },
        "outputId": "ec701477-c50b-4e13-a515-874cf49c17e2"
      },
      "execution_count": 36,
      "outputs": [
        {
          "output_type": "stream",
          "name": "stdout",
          "text": [
            "Training images: 93982\n",
            "Testing images: 11748\n"
          ]
        }
      ]
    },
    {
      "cell_type": "markdown",
      "source": [
        "#### Data Augmentation\n",
        "\n"
      ],
      "metadata": {
        "_cell_guid": "91af77ca-9c00-4ab9-9092-85825e37743c",
        "_uuid": "74497e52-b5aa-465e-b65a-727e2a30c191",
        "papermill": {
          "duration": 0.121434,
          "end_time": "2022-10-25T16:17:43.405947",
          "exception": false,
          "start_time": "2022-10-25T16:17:43.284513",
          "status": "completed"
        },
        "tags": [],
        "id": "5i16SXDP0cPU"
      }
    },
    {
      "cell_type": "code",
      "source": [
        "seq = iaa.Sequential([\n",
        "    iaa.Sometimes(0.3, iaa.ElasticTransformation(alpha=(0.5, 10.0),\n",
        "                                                 sigma=5.0)),\n",
        "    iaa.OneOf([\n",
        "        iaa.GaussianBlur((0, 0.5)),\n",
        "        iaa.AverageBlur(k=(1, 3)),\n",
        "        iaa.MedianBlur(k=(1, 3)),\n",
        "    ]),\n",
        "    iaa.Sometimes(0.3,\n",
        "                  iaa.AdditiveGaussianNoise(scale=0.01 * 255)\n",
        "                 ),\n",
        "])"
      ],
      "metadata": {
        "_cell_guid": "08a2e5e9-63e4-4d93-86a0-87a6a862818e",
        "_uuid": "1ba6b189-1759-46d4-86ee-c0995e2e3812",
        "execution": {
          "iopub.execute_input": "2022-10-25T16:17:43.648431Z",
          "iopub.status.busy": "2022-10-25T16:17:43.647866Z",
          "iopub.status.idle": "2022-10-25T16:17:43.696661Z",
          "shell.execute_reply": "2022-10-25T16:17:43.695666Z"
        },
        "jupyter": {
          "outputs_hidden": false
        },
        "papermill": {
          "duration": 0.173033,
          "end_time": "2022-10-25T16:17:43.698776",
          "exception": false,
          "start_time": "2022-10-25T16:17:43.525743",
          "status": "completed"
        },
        "tags": [],
        "id": "X4i6G2-M0cPU"
      },
      "execution_count": 37,
      "outputs": []
    },
    {
      "cell_type": "markdown",
      "source": [
        "#### Data Iterators\n"
      ],
      "metadata": {
        "_cell_guid": "b2eecd08-185c-462d-8cb5-25a34a806280",
        "_uuid": "f85387d6-5d8b-45fe-8656-cc8d78c5b0d7",
        "papermill": {
          "duration": 0.128353,
          "end_time": "2022-10-25T16:17:43.94692",
          "exception": false,
          "start_time": "2022-10-25T16:17:43.818567",
          "status": "completed"
        },
        "tags": [],
        "id": "-FgD6Oru0cPU"
      }
    },
    {
      "cell_type": "code",
      "source": [
        "train_iterator = DataIterator(data['train'][0],\n",
        "                              data['train'][2],\n",
        "                              num_buckets,\n",
        "                              slider_size,\n",
        "                              augmentation=seq,\n",
        "                              dropout=dropout,\n",
        "                              train=True)\n",
        "test_iterator = DataIterator(data['dev'][0],\n",
        "                             data['dev'][2],\n",
        "                             1,\n",
        "                             slider_size,\n",
        "                             train=False)"
      ],
      "metadata": {
        "_cell_guid": "2cc4c840-10ef-4c6e-8255-681fb51e9496",
        "_uuid": "7e9b2d75-9668-4c92-acdf-cb6b413858c8",
        "execution": {
          "iopub.execute_input": "2022-10-25T16:17:44.189457Z",
          "iopub.status.busy": "2022-10-25T16:17:44.188859Z",
          "iopub.status.idle": "2022-10-25T16:17:45.193065Z",
          "shell.execute_reply": "2022-10-25T16:17:45.191783Z"
        },
        "jupyter": {
          "outputs_hidden": false
        },
        "papermill": {
          "duration": 1.130017,
          "end_time": "2022-10-25T16:17:45.196345",
          "exception": false,
          "start_time": "2022-10-25T16:17:44.066328",
          "status": "completed"
        },
        "tags": [],
        "id": "JjzIBF8U0cPV",
        "colab": {
          "base_uri": "https://localhost:8080/"
        },
        "outputId": "dcd399c7-b3c0-49af-b53f-0784bea5274f"
      },
      "execution_count": 38,
      "outputs": [
        {
          "output_type": "stream",
          "name": "stdout",
          "text": [
            "Iterator created.\n",
            "Iterator created.\n"
          ]
        }
      ]
    },
    {
      "cell_type": "code",
      "source": [
        "tf.compat.v1.disable_eager_execution()\n",
        "inputs = tf.compat.v1.placeholder(shape=(None, slider_size[0], None, 1),\n",
        "                                  dtype=tf.float32,\n",
        "                                  name='inputs')\n",
        "\n",
        "inputs_length = tf.compat.v1.placeholder(shape=(None, ),\n",
        "                                         dtype=tf.int32,\n",
        "                                         name='inputs_length')\n",
        "\n",
        "targets = tf.compat.v1.sparse_placeholder(dtype=tf.int32, name='targets')\n",
        "\n",
        "keep_prob = tf.compat.v1.placeholder(tf.float32, name='keep_prob')"
      ],
      "metadata": {
        "_cell_guid": "6dfe2c7b-8ce5-4df4-bbbf-7d6a908e8b32",
        "_uuid": "c57a6a43-9117-4a90-a2ea-472fc8187a8d",
        "execution": {
          "iopub.execute_input": "2022-10-25T16:17:45.730022Z",
          "iopub.status.busy": "2022-10-25T16:17:45.729627Z",
          "iopub.status.idle": "2022-10-25T16:17:45.933264Z",
          "shell.execute_reply": "2022-10-25T16:17:45.932196Z"
        },
        "jupyter": {
          "outputs_hidden": false
        },
        "papermill": {
          "duration": 0.337585,
          "end_time": "2022-10-25T16:17:45.936709",
          "exception": false,
          "start_time": "2022-10-25T16:17:45.599124",
          "status": "completed"
        },
        "tags": [],
        "id": "tqj8k8e10cPV"
      },
      "execution_count": 39,
      "outputs": []
    },
    {
      "cell_type": "code",
      "source": [
        "!rm -r 'datasets/sets/dev' 'datasets/sets/test' 'datasets/sets/train'"
      ],
      "metadata": {
        "execution": {
          "iopub.status.busy": "2022-10-27T11:13:22.247508Z",
          "iopub.execute_input": "2022-10-27T11:13:22.248034Z",
          "iopub.status.idle": "2022-10-27T11:13:23.383547Z",
          "shell.execute_reply.started": "2022-10-27T11:13:22.247934Z",
          "shell.execute_reply": "2022-10-27T11:13:23.381632Z"
        },
        "trusted": true,
        "id": "Ayi2DZbs0cPW"
      },
      "execution_count": 46,
      "outputs": []
    },
    {
      "cell_type": "markdown",
      "source": [
        "**Predicting the model**"
      ],
      "metadata": {
        "id": "hXtEgYyCEr1Z"
      }
    },
    {
      "cell_type": "markdown",
      "source": [
        "### Getting all the test images\n"
      ],
      "metadata": {
        "_cell_guid": "612ce0bb-269f-4869-beb3-4484de795b85",
        "_uuid": "f0d8ea1f-b103-4024-a866-a75d763d5b8e",
        "papermill": {
          "duration": null,
          "end_time": null,
          "exception": null,
          "start_time": null,
          "status": "completed"
        },
        "tags": [],
        "id": "PR9KSOjy0cPW"
      }
    },
    {
      "cell_type": "code",
      "source": [
        "%matplotlib inline\n",
        "plt.rcParams['figure.figsize'] = (15.0, 10.0)\n",
        "\n",
        "!gdown 1aAo4AYu8ChgS6W0GCiVm3X1nhG1dMnRC\n",
        "\n",
        "with ZipFile(\"TEST IMAGES.zip\", 'r') as zObject:\n",
        "    zObject.extractall(path=\"datasets/test_pages/\")\n",
        "\n",
        "IMG=glob.glob('datasets/test_pages/TEST IMAGES/*')"
      ],
      "metadata": {
        "execution": {
          "iopub.status.busy": "2022-10-27T14:24:04.675259Z",
          "iopub.execute_input": "2022-10-27T14:24:04.675993Z",
          "iopub.status.idle": "2022-10-27T14:24:09.001134Z",
          "shell.execute_reply.started": "2022-10-27T14:24:04.675959Z",
          "shell.execute_reply": "2022-10-27T14:24:08.999969Z"
        },
        "trusted": true,
        "id": "KOLCq0zm0cPW",
        "colab": {
          "base_uri": "https://localhost:8080/"
        },
        "outputId": "5b4374eb-747f-440d-f194-c84194734f70"
      },
      "execution_count": 45,
      "outputs": [
        {
          "output_type": "stream",
          "name": "stdout",
          "text": [
            "Downloading...\n",
            "From: https://drive.google.com/uc?id=1aAo4AYu8ChgS6W0GCiVm3X1nhG1dMnRC\n",
            "To: /content/TEST IMAGES.zip\n",
            "100% 8.27M/8.27M [00:00<00:00, 68.0MB/s]\n"
          ]
        }
      ]
    }
  ]
}